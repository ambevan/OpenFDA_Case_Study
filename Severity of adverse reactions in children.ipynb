{
 "cells": [
  {
   "cell_type": "markdown",
   "metadata": {},
   "source": [
    "# Severity of adverse reactions in pediatric patients"
   ]
  },
  {
   "cell_type": "markdown",
   "metadata": {},
   "source": [
    "## Data collection and cleaning"
   ]
  },
  {
   "cell_type": "markdown",
   "metadata": {},
   "source": [
    "We will first collect the data. We will initially collect only data for 'children' i.e. category 3 as reported in the database. This does not include neonates, infants or adolescents.\n",
    "\n",
    "Given the total number of children in the database (35,000), we will initially restrict our analyses to the first 5000. The sample can be expanded or reduced by changing n_reports."
   ]
  },
  {
   "cell_type": "code",
   "execution_count": 1,
   "metadata": {},
   "outputs": [],
   "source": [
    "# import standard modules necessary for data processing and visualisation\n",
    "# set style for plotting\n",
    "import pandas as pd\n",
    "import seaborn as sns\n",
    "import matplotlib.pyplot as plt\n",
    "import numpy as np\n",
    "from matplotlib.colors import LogNorm\n",
    "import scipy.stats as st\n",
    "plt.style.use('seaborn')\n",
    "plt.rcParams['figure.figsize'] = (10.0, 6.0)\n",
    "\n",
    "# import my modules\n",
    "import collect_data \n",
    "import clean_data\n",
    "import process_data\n",
    "\n",
    "# define the base of the URL used to access the database\n",
    "# search terms will be appended to this to obtain specific recordsets\n",
    "url_base = \"https://api.fda.gov/drug/event.json?search=receivedate:[20030101+TO+20200528]\""
   ]
  },
  {
   "cell_type": "markdown",
   "metadata": {},
   "source": [
    "### Collecting the pediatric dataset"
   ]
  },
  {
   "cell_type": "code",
   "execution_count": 2,
   "metadata": {},
   "outputs": [
    {
     "data": {
      "application/vnd.jupyter.widget-view+json": {
       "model_id": "a92002b0e50442a2b185555671534edc",
       "version_major": 2,
       "version_minor": 0
      },
      "text/plain": [
       "HBox(children=(FloatProgress(value=0.0, description='Progress', max=2.0, style=ProgressStyle(description_width…"
      ]
     },
     "metadata": {},
     "output_type": "display_data"
    },
    {
     "name": "stdout",
     "output_type": "stream",
     "text": [
      "\n"
     ]
    }
   ],
   "source": [
    "n_reports = 200\n",
    "\n",
    "# collect pediatric data from database and flatten\n",
    "raw_pediatric = collect_data.collect_pediatric_data(n_reports)\n",
    "raw_pediatric.reset_index(drop=True, inplace=True)\n",
    "flat_pediatric = collect_data.flatten_dataframe(raw_pediatric)"
   ]
  },
  {
   "cell_type": "code",
   "execution_count": 3,
   "metadata": {},
   "outputs": [
    {
     "data": {
      "text/html": [
       "<div>\n",
       "<style scoped>\n",
       "    .dataframe tbody tr th:only-of-type {\n",
       "        vertical-align: middle;\n",
       "    }\n",
       "\n",
       "    .dataframe tbody tr th {\n",
       "        vertical-align: top;\n",
       "    }\n",
       "\n",
       "    .dataframe thead th {\n",
       "        text-align: right;\n",
       "    }\n",
       "</style>\n",
       "<table border=\"1\" class=\"dataframe\">\n",
       "  <thead>\n",
       "    <tr style=\"text-align: right;\">\n",
       "      <th></th>\n",
       "      <th>reporttype</th>\n",
       "      <th>receiptdateformat</th>\n",
       "      <th>companynumb</th>\n",
       "      <th>occurcountry</th>\n",
       "      <th>safetyreportversion</th>\n",
       "      <th>receivedateformat</th>\n",
       "      <th>duplicate</th>\n",
       "      <th>transmissiondateformat</th>\n",
       "      <th>fulfillexpeditecriteria</th>\n",
       "      <th>safetyreportid</th>\n",
       "      <th>...</th>\n",
       "      <th>rxcui</th>\n",
       "      <th>spl_id</th>\n",
       "      <th>substance_name</th>\n",
       "      <th>product_type</th>\n",
       "      <th>route</th>\n",
       "      <th>application_number</th>\n",
       "      <th>nui</th>\n",
       "      <th>pharm_class_cs</th>\n",
       "      <th>pharm_class_epc</th>\n",
       "      <th>pharm_class_moa</th>\n",
       "    </tr>\n",
       "  </thead>\n",
       "  <tbody>\n",
       "    <tr>\n",
       "      <th>0</th>\n",
       "      <td>1</td>\n",
       "      <td>102</td>\n",
       "      <td>US-GILEAD-2012-0061944</td>\n",
       "      <td>US</td>\n",
       "      <td>3</td>\n",
       "      <td>102</td>\n",
       "      <td>1</td>\n",
       "      <td>102</td>\n",
       "      <td>2</td>\n",
       "      <td>10003430</td>\n",
       "      <td>...</td>\n",
       "      <td>722124</td>\n",
       "      <td>acf09b42-e9a4-4aee-82f7-75d413d06ec5</td>\n",
       "      <td>AMBRISENTAN</td>\n",
       "      <td>HUMAN PRESCRIPTION DRUG</td>\n",
       "      <td>ORAL</td>\n",
       "      <td>NDA022081</td>\n",
       "      <td>NaN</td>\n",
       "      <td>NaN</td>\n",
       "      <td>NaN</td>\n",
       "      <td>NaN</td>\n",
       "    </tr>\n",
       "    <tr>\n",
       "      <th>1</th>\n",
       "      <td>1</td>\n",
       "      <td>102</td>\n",
       "      <td>US-GILEAD-2012-0059314</td>\n",
       "      <td>US</td>\n",
       "      <td>3</td>\n",
       "      <td>102</td>\n",
       "      <td>1</td>\n",
       "      <td>102</td>\n",
       "      <td>2</td>\n",
       "      <td>10003517</td>\n",
       "      <td>...</td>\n",
       "      <td>722124</td>\n",
       "      <td>acf09b42-e9a4-4aee-82f7-75d413d06ec5</td>\n",
       "      <td>AMBRISENTAN</td>\n",
       "      <td>HUMAN PRESCRIPTION DRUG</td>\n",
       "      <td>ORAL</td>\n",
       "      <td>NDA022081</td>\n",
       "      <td>NaN</td>\n",
       "      <td>NaN</td>\n",
       "      <td>NaN</td>\n",
       "      <td>NaN</td>\n",
       "    </tr>\n",
       "    <tr>\n",
       "      <th>2</th>\n",
       "      <td>1</td>\n",
       "      <td>102</td>\n",
       "      <td>US-GILEAD-2012-0060537</td>\n",
       "      <td>US</td>\n",
       "      <td>3</td>\n",
       "      <td>102</td>\n",
       "      <td>1</td>\n",
       "      <td>102</td>\n",
       "      <td>2</td>\n",
       "      <td>10004354</td>\n",
       "      <td>...</td>\n",
       "      <td>722124</td>\n",
       "      <td>acf09b42-e9a4-4aee-82f7-75d413d06ec5</td>\n",
       "      <td>AMBRISENTAN</td>\n",
       "      <td>HUMAN PRESCRIPTION DRUG</td>\n",
       "      <td>ORAL</td>\n",
       "      <td>NDA022081</td>\n",
       "      <td>NaN</td>\n",
       "      <td>NaN</td>\n",
       "      <td>NaN</td>\n",
       "      <td>NaN</td>\n",
       "    </tr>\n",
       "    <tr>\n",
       "      <th>3</th>\n",
       "      <td>1</td>\n",
       "      <td>102</td>\n",
       "      <td>US-GILEAD-2012-0060700</td>\n",
       "      <td>US</td>\n",
       "      <td>2</td>\n",
       "      <td>102</td>\n",
       "      <td>1</td>\n",
       "      <td>102</td>\n",
       "      <td>2</td>\n",
       "      <td>10004368</td>\n",
       "      <td>...</td>\n",
       "      <td>722124</td>\n",
       "      <td>acf09b42-e9a4-4aee-82f7-75d413d06ec5</td>\n",
       "      <td>AMBRISENTAN</td>\n",
       "      <td>HUMAN PRESCRIPTION DRUG</td>\n",
       "      <td>ORAL</td>\n",
       "      <td>NDA022081</td>\n",
       "      <td>NaN</td>\n",
       "      <td>NaN</td>\n",
       "      <td>NaN</td>\n",
       "      <td>NaN</td>\n",
       "    </tr>\n",
       "    <tr>\n",
       "      <th>4</th>\n",
       "      <td>1</td>\n",
       "      <td>102</td>\n",
       "      <td>US-GILEAD-2012-0061671</td>\n",
       "      <td>US</td>\n",
       "      <td>3</td>\n",
       "      <td>102</td>\n",
       "      <td>1</td>\n",
       "      <td>102</td>\n",
       "      <td>2</td>\n",
       "      <td>10004919</td>\n",
       "      <td>...</td>\n",
       "      <td>722124</td>\n",
       "      <td>acf09b42-e9a4-4aee-82f7-75d413d06ec5</td>\n",
       "      <td>AMBRISENTAN</td>\n",
       "      <td>HUMAN PRESCRIPTION DRUG</td>\n",
       "      <td>ORAL</td>\n",
       "      <td>NDA022081</td>\n",
       "      <td>NaN</td>\n",
       "      <td>NaN</td>\n",
       "      <td>NaN</td>\n",
       "      <td>NaN</td>\n",
       "    </tr>\n",
       "  </tbody>\n",
       "</table>\n",
       "<p>5 rows × 84 columns</p>\n",
       "</div>"
      ],
      "text/plain": [
       "  reporttype receiptdateformat             companynumb occurcountry  \\\n",
       "0          1               102  US-GILEAD-2012-0061944           US   \n",
       "1          1               102  US-GILEAD-2012-0059314           US   \n",
       "2          1               102  US-GILEAD-2012-0060537           US   \n",
       "3          1               102  US-GILEAD-2012-0060700           US   \n",
       "4          1               102  US-GILEAD-2012-0061671           US   \n",
       "\n",
       "  safetyreportversion receivedateformat duplicate transmissiondateformat  \\\n",
       "0                   3               102         1                    102   \n",
       "1                   3               102         1                    102   \n",
       "2                   3               102         1                    102   \n",
       "3                   2               102         1                    102   \n",
       "4                   3               102         1                    102   \n",
       "\n",
       "  fulfillexpeditecriteria safetyreportid  ...   rxcui  \\\n",
       "0                       2       10003430  ...  722124   \n",
       "1                       2       10003517  ...  722124   \n",
       "2                       2       10004354  ...  722124   \n",
       "3                       2       10004368  ...  722124   \n",
       "4                       2       10004919  ...  722124   \n",
       "\n",
       "                                 spl_id substance_name  \\\n",
       "0  acf09b42-e9a4-4aee-82f7-75d413d06ec5    AMBRISENTAN   \n",
       "1  acf09b42-e9a4-4aee-82f7-75d413d06ec5    AMBRISENTAN   \n",
       "2  acf09b42-e9a4-4aee-82f7-75d413d06ec5    AMBRISENTAN   \n",
       "3  acf09b42-e9a4-4aee-82f7-75d413d06ec5    AMBRISENTAN   \n",
       "4  acf09b42-e9a4-4aee-82f7-75d413d06ec5    AMBRISENTAN   \n",
       "\n",
       "              product_type route application_number  nui pharm_class_cs  \\\n",
       "0  HUMAN PRESCRIPTION DRUG  ORAL          NDA022081  NaN            NaN   \n",
       "1  HUMAN PRESCRIPTION DRUG  ORAL          NDA022081  NaN            NaN   \n",
       "2  HUMAN PRESCRIPTION DRUG  ORAL          NDA022081  NaN            NaN   \n",
       "3  HUMAN PRESCRIPTION DRUG  ORAL          NDA022081  NaN            NaN   \n",
       "4  HUMAN PRESCRIPTION DRUG  ORAL          NDA022081  NaN            NaN   \n",
       "\n",
       "  pharm_class_epc pharm_class_moa  \n",
       "0             NaN             NaN  \n",
       "1             NaN             NaN  \n",
       "2             NaN             NaN  \n",
       "3             NaN             NaN  \n",
       "4             NaN             NaN  \n",
       "\n",
       "[5 rows x 84 columns]"
      ]
     },
     "execution_count": 3,
     "metadata": {},
     "output_type": "execute_result"
    }
   ],
   "source": [
    "flat_pediatric.head(5)"
   ]
  },
  {
   "cell_type": "markdown",
   "metadata": {},
   "source": [
    "We can see that we have a flattened dataframe, with no nested dictionaries or lists (in any desired columns). However, it is also clear that there are numerous missing values and a large number of columns (87). We must reduce this featureset and clean the data before analysis."
   ]
  },
  {
   "cell_type": "markdown",
   "metadata": {},
   "source": [
    "### Cleaning the data"
   ]
  },
  {
   "cell_type": "markdown",
   "metadata": {},
   "source": [
    "We clean the data to remove unecessary/undesired columns, impute missing values (where appropriate), remove columns with a high fraction of missing values, format types appropriately, and filter any outliers."
   ]
  },
  {
   "cell_type": "code",
   "execution_count": 4,
   "metadata": {},
   "outputs": [],
   "source": [
    "# remove unnecessary columns\n",
    "clean_pediatric = clean_data.drop_unnecessary_columns(flat_pediatric)\n",
    "\n",
    "# replace missing values in seriousness outcome columns with 0\n",
    "# assume that no entry means this outcome did not take place\n",
    "clean_pediatric = clean_data.fill_seriousness_nan(clean_pediatric)\n",
    "\n",
    "# remove any columns which have more than 40% msising values\n",
    "clean_pediatric = clean_data.remove_nan_columns(clean_pediatric, 40)\n",
    "\n",
    "# fix data types and formatting\n",
    "clean_pediatric = clean_data.fix_data_types(clean_pediatric)\n",
    "clean_pediatric = clean_data.reformat_onsetage(clean_pediatric)\n",
    "\n",
    "# remove outliers in patient age category\n",
    "clean_pediatric = clean_data.remove_outliers(clean_pediatric)\n",
    "\n",
    "# remap seriousness from {1, 2} to {1, 0}\n",
    "clean_pediatric.serious = clean_pediatric.serious.map({2:0, 1:1}) #map serious_to_boolean\n",
    "\n",
    "pediatric_data = clean_pediatric.reset_index()"
   ]
  },
  {
   "cell_type": "markdown",
   "metadata": {},
   "source": [
    "Examine the cleaned and reduced dataset by eye to look for anomalies and problems."
   ]
  },
  {
   "cell_type": "code",
   "execution_count": 5,
   "metadata": {},
   "outputs": [
    {
     "data": {
      "text/html": [
       "<div>\n",
       "<style scoped>\n",
       "    .dataframe tbody tr th:only-of-type {\n",
       "        vertical-align: middle;\n",
       "    }\n",
       "\n",
       "    .dataframe tbody tr th {\n",
       "        vertical-align: top;\n",
       "    }\n",
       "\n",
       "    .dataframe thead th {\n",
       "        text-align: right;\n",
       "    }\n",
       "</style>\n",
       "<table border=\"1\" class=\"dataframe\">\n",
       "  <thead>\n",
       "    <tr style=\"text-align: right;\">\n",
       "      <th></th>\n",
       "      <th>index</th>\n",
       "      <th>reporttype</th>\n",
       "      <th>occurcountry</th>\n",
       "      <th>serious</th>\n",
       "      <th>primarysource.qualification</th>\n",
       "      <th>patient.patientsex</th>\n",
       "      <th>seriousnessother</th>\n",
       "      <th>seriousnesshospitalization</th>\n",
       "      <th>seriousnesslifethreatening</th>\n",
       "      <th>seriousnessdeath</th>\n",
       "      <th>seriousnessdisabling</th>\n",
       "      <th>seriousnesscongenitalanomali</th>\n",
       "      <th>reactionoutcome</th>\n",
       "      <th>reactionmeddrapt</th>\n",
       "      <th>route</th>\n",
       "      <th>patient.patientonsetageyear</th>\n",
       "    </tr>\n",
       "  </thead>\n",
       "  <tbody>\n",
       "    <tr>\n",
       "      <th>0</th>\n",
       "      <td>0</td>\n",
       "      <td>1.0</td>\n",
       "      <td>US</td>\n",
       "      <td>0</td>\n",
       "      <td>5.0</td>\n",
       "      <td>1.0</td>\n",
       "      <td>0.0</td>\n",
       "      <td>0.0</td>\n",
       "      <td>0.0</td>\n",
       "      <td>0.0</td>\n",
       "      <td>0.0</td>\n",
       "      <td>0.0</td>\n",
       "      <td>6.0</td>\n",
       "      <td>Sinusitis</td>\n",
       "      <td>ORAL</td>\n",
       "      <td>10.0</td>\n",
       "    </tr>\n",
       "    <tr>\n",
       "      <th>1</th>\n",
       "      <td>1</td>\n",
       "      <td>1.0</td>\n",
       "      <td>US</td>\n",
       "      <td>0</td>\n",
       "      <td>1.0</td>\n",
       "      <td>1.0</td>\n",
       "      <td>0.0</td>\n",
       "      <td>0.0</td>\n",
       "      <td>0.0</td>\n",
       "      <td>0.0</td>\n",
       "      <td>0.0</td>\n",
       "      <td>0.0</td>\n",
       "      <td>6.0</td>\n",
       "      <td>Hiccups</td>\n",
       "      <td>ORAL</td>\n",
       "      <td>4.0</td>\n",
       "    </tr>\n",
       "    <tr>\n",
       "      <th>2</th>\n",
       "      <td>2</td>\n",
       "      <td>1.0</td>\n",
       "      <td>US</td>\n",
       "      <td>0</td>\n",
       "      <td>1.0</td>\n",
       "      <td>1.0</td>\n",
       "      <td>0.0</td>\n",
       "      <td>0.0</td>\n",
       "      <td>0.0</td>\n",
       "      <td>0.0</td>\n",
       "      <td>0.0</td>\n",
       "      <td>0.0</td>\n",
       "      <td>6.0</td>\n",
       "      <td>Hordeolum</td>\n",
       "      <td>ORAL</td>\n",
       "      <td>4.0</td>\n",
       "    </tr>\n",
       "    <tr>\n",
       "      <th>3</th>\n",
       "      <td>3</td>\n",
       "      <td>1.0</td>\n",
       "      <td>US</td>\n",
       "      <td>0</td>\n",
       "      <td>5.0</td>\n",
       "      <td>2.0</td>\n",
       "      <td>0.0</td>\n",
       "      <td>0.0</td>\n",
       "      <td>0.0</td>\n",
       "      <td>0.0</td>\n",
       "      <td>0.0</td>\n",
       "      <td>0.0</td>\n",
       "      <td>6.0</td>\n",
       "      <td>Oral candidiasis</td>\n",
       "      <td>ORAL</td>\n",
       "      <td>2.0</td>\n",
       "    </tr>\n",
       "    <tr>\n",
       "      <th>4</th>\n",
       "      <td>4</td>\n",
       "      <td>1.0</td>\n",
       "      <td>US</td>\n",
       "      <td>0</td>\n",
       "      <td>5.0</td>\n",
       "      <td>2.0</td>\n",
       "      <td>0.0</td>\n",
       "      <td>0.0</td>\n",
       "      <td>0.0</td>\n",
       "      <td>0.0</td>\n",
       "      <td>0.0</td>\n",
       "      <td>0.0</td>\n",
       "      <td>6.0</td>\n",
       "      <td>Nasopharyngitis</td>\n",
       "      <td>ORAL</td>\n",
       "      <td>5.0</td>\n",
       "    </tr>\n",
       "    <tr>\n",
       "      <th>5</th>\n",
       "      <td>5</td>\n",
       "      <td>1.0</td>\n",
       "      <td>US</td>\n",
       "      <td>1</td>\n",
       "      <td>5.0</td>\n",
       "      <td>2.0</td>\n",
       "      <td>1.0</td>\n",
       "      <td>0.0</td>\n",
       "      <td>0.0</td>\n",
       "      <td>0.0</td>\n",
       "      <td>0.0</td>\n",
       "      <td>0.0</td>\n",
       "      <td>6.0</td>\n",
       "      <td>Coeliac disease</td>\n",
       "      <td>ORAL</td>\n",
       "      <td>13.0</td>\n",
       "    </tr>\n",
       "    <tr>\n",
       "      <th>6</th>\n",
       "      <td>6</td>\n",
       "      <td>1.0</td>\n",
       "      <td>US</td>\n",
       "      <td>0</td>\n",
       "      <td>5.0</td>\n",
       "      <td>1.0</td>\n",
       "      <td>0.0</td>\n",
       "      <td>0.0</td>\n",
       "      <td>0.0</td>\n",
       "      <td>0.0</td>\n",
       "      <td>0.0</td>\n",
       "      <td>0.0</td>\n",
       "      <td>6.0</td>\n",
       "      <td>Heart rate increased</td>\n",
       "      <td>ORAL</td>\n",
       "      <td>7.0</td>\n",
       "    </tr>\n",
       "    <tr>\n",
       "      <th>7</th>\n",
       "      <td>7</td>\n",
       "      <td>1.0</td>\n",
       "      <td>US</td>\n",
       "      <td>0</td>\n",
       "      <td>1.0</td>\n",
       "      <td>2.0</td>\n",
       "      <td>0.0</td>\n",
       "      <td>0.0</td>\n",
       "      <td>0.0</td>\n",
       "      <td>0.0</td>\n",
       "      <td>0.0</td>\n",
       "      <td>0.0</td>\n",
       "      <td>6.0</td>\n",
       "      <td>Dyspnoea</td>\n",
       "      <td>ORAL</td>\n",
       "      <td>6.0</td>\n",
       "    </tr>\n",
       "    <tr>\n",
       "      <th>8</th>\n",
       "      <td>8</td>\n",
       "      <td>1.0</td>\n",
       "      <td>US</td>\n",
       "      <td>0</td>\n",
       "      <td>1.0</td>\n",
       "      <td>1.0</td>\n",
       "      <td>0.0</td>\n",
       "      <td>0.0</td>\n",
       "      <td>0.0</td>\n",
       "      <td>0.0</td>\n",
       "      <td>0.0</td>\n",
       "      <td>0.0</td>\n",
       "      <td>6.0</td>\n",
       "      <td>Sinusitis</td>\n",
       "      <td>ORAL</td>\n",
       "      <td>6.0</td>\n",
       "    </tr>\n",
       "    <tr>\n",
       "      <th>9</th>\n",
       "      <td>9</td>\n",
       "      <td>1.0</td>\n",
       "      <td>US</td>\n",
       "      <td>0</td>\n",
       "      <td>5.0</td>\n",
       "      <td>2.0</td>\n",
       "      <td>0.0</td>\n",
       "      <td>0.0</td>\n",
       "      <td>0.0</td>\n",
       "      <td>0.0</td>\n",
       "      <td>0.0</td>\n",
       "      <td>0.0</td>\n",
       "      <td>6.0</td>\n",
       "      <td>Sinusitis</td>\n",
       "      <td>ORAL</td>\n",
       "      <td>8.0</td>\n",
       "    </tr>\n",
       "  </tbody>\n",
       "</table>\n",
       "</div>"
      ],
      "text/plain": [
       "   index  reporttype occurcountry  serious  primarysource.qualification  \\\n",
       "0      0         1.0           US        0                          5.0   \n",
       "1      1         1.0           US        0                          1.0   \n",
       "2      2         1.0           US        0                          1.0   \n",
       "3      3         1.0           US        0                          5.0   \n",
       "4      4         1.0           US        0                          5.0   \n",
       "5      5         1.0           US        1                          5.0   \n",
       "6      6         1.0           US        0                          5.0   \n",
       "7      7         1.0           US        0                          1.0   \n",
       "8      8         1.0           US        0                          1.0   \n",
       "9      9         1.0           US        0                          5.0   \n",
       "\n",
       "   patient.patientsex  seriousnessother  seriousnesshospitalization  \\\n",
       "0                 1.0               0.0                         0.0   \n",
       "1                 1.0               0.0                         0.0   \n",
       "2                 1.0               0.0                         0.0   \n",
       "3                 2.0               0.0                         0.0   \n",
       "4                 2.0               0.0                         0.0   \n",
       "5                 2.0               1.0                         0.0   \n",
       "6                 1.0               0.0                         0.0   \n",
       "7                 2.0               0.0                         0.0   \n",
       "8                 1.0               0.0                         0.0   \n",
       "9                 2.0               0.0                         0.0   \n",
       "\n",
       "   seriousnesslifethreatening  seriousnessdeath  seriousnessdisabling  \\\n",
       "0                         0.0               0.0                   0.0   \n",
       "1                         0.0               0.0                   0.0   \n",
       "2                         0.0               0.0                   0.0   \n",
       "3                         0.0               0.0                   0.0   \n",
       "4                         0.0               0.0                   0.0   \n",
       "5                         0.0               0.0                   0.0   \n",
       "6                         0.0               0.0                   0.0   \n",
       "7                         0.0               0.0                   0.0   \n",
       "8                         0.0               0.0                   0.0   \n",
       "9                         0.0               0.0                   0.0   \n",
       "\n",
       "   seriousnesscongenitalanomali  reactionoutcome      reactionmeddrapt route  \\\n",
       "0                           0.0              6.0             Sinusitis  ORAL   \n",
       "1                           0.0              6.0               Hiccups  ORAL   \n",
       "2                           0.0              6.0             Hordeolum  ORAL   \n",
       "3                           0.0              6.0      Oral candidiasis  ORAL   \n",
       "4                           0.0              6.0       Nasopharyngitis  ORAL   \n",
       "5                           0.0              6.0       Coeliac disease  ORAL   \n",
       "6                           0.0              6.0  Heart rate increased  ORAL   \n",
       "7                           0.0              6.0              Dyspnoea  ORAL   \n",
       "8                           0.0              6.0             Sinusitis  ORAL   \n",
       "9                           0.0              6.0             Sinusitis  ORAL   \n",
       "\n",
       "   patient.patientonsetageyear  \n",
       "0                         10.0  \n",
       "1                          4.0  \n",
       "2                          4.0  \n",
       "3                          2.0  \n",
       "4                          5.0  \n",
       "5                         13.0  \n",
       "6                          7.0  \n",
       "7                          6.0  \n",
       "8                          6.0  \n",
       "9                          8.0  "
      ]
     },
     "execution_count": 5,
     "metadata": {},
     "output_type": "execute_result"
    }
   ],
   "source": [
    "# preview data\n",
    "pediatric_data.head(10)"
   ]
  },
  {
   "cell_type": "markdown",
   "metadata": {},
   "source": [
    "## Analysis of factors influencing severity of adverse response in children"
   ]
  },
  {
   "cell_type": "markdown",
   "metadata": {},
   "source": [
    "### Descriptive statistics"
   ]
  },
  {
   "cell_type": "markdown",
   "metadata": {},
   "source": [
    "We intially calculate some basic descriptive statistics on the numerical data in the dataframe. "
   ]
  },
  {
   "cell_type": "code",
   "execution_count": 6,
   "metadata": {},
   "outputs": [
    {
     "data": {
      "text/html": [
       "<div>\n",
       "<style scoped>\n",
       "    .dataframe tbody tr th:only-of-type {\n",
       "        vertical-align: middle;\n",
       "    }\n",
       "\n",
       "    .dataframe tbody tr th {\n",
       "        vertical-align: top;\n",
       "    }\n",
       "\n",
       "    .dataframe thead th {\n",
       "        text-align: right;\n",
       "    }\n",
       "</style>\n",
       "<table border=\"1\" class=\"dataframe\">\n",
       "  <thead>\n",
       "    <tr style=\"text-align: right;\">\n",
       "      <th></th>\n",
       "      <th>index</th>\n",
       "      <th>reporttype</th>\n",
       "      <th>serious</th>\n",
       "      <th>primarysource.qualification</th>\n",
       "      <th>patient.patientsex</th>\n",
       "      <th>seriousnessother</th>\n",
       "      <th>seriousnesshospitalization</th>\n",
       "      <th>seriousnesslifethreatening</th>\n",
       "      <th>seriousnessdeath</th>\n",
       "      <th>seriousnessdisabling</th>\n",
       "      <th>seriousnesscongenitalanomali</th>\n",
       "      <th>reactionoutcome</th>\n",
       "      <th>patient.patientonsetageyear</th>\n",
       "    </tr>\n",
       "  </thead>\n",
       "  <tbody>\n",
       "    <tr>\n",
       "      <th>count</th>\n",
       "      <td>199.000000</td>\n",
       "      <td>199.000000</td>\n",
       "      <td>199.000000</td>\n",
       "      <td>199.000000</td>\n",
       "      <td>186.000000</td>\n",
       "      <td>199.000000</td>\n",
       "      <td>199.000000</td>\n",
       "      <td>199.000000</td>\n",
       "      <td>199.000000</td>\n",
       "      <td>199.000000</td>\n",
       "      <td>199.000000</td>\n",
       "      <td>196.000000</td>\n",
       "      <td>158.000000</td>\n",
       "    </tr>\n",
       "    <tr>\n",
       "      <th>mean</th>\n",
       "      <td>99.693467</td>\n",
       "      <td>1.266332</td>\n",
       "      <td>0.693467</td>\n",
       "      <td>3.100503</td>\n",
       "      <td>1.413978</td>\n",
       "      <td>0.351759</td>\n",
       "      <td>0.361809</td>\n",
       "      <td>0.060302</td>\n",
       "      <td>0.075377</td>\n",
       "      <td>0.030151</td>\n",
       "      <td>0.005025</td>\n",
       "      <td>4.000000</td>\n",
       "      <td>7.312764</td>\n",
       "    </tr>\n",
       "    <tr>\n",
       "      <th>std</th>\n",
       "      <td>57.960292</td>\n",
       "      <td>0.454408</td>\n",
       "      <td>0.462216</td>\n",
       "      <td>1.809054</td>\n",
       "      <td>0.493874</td>\n",
       "      <td>0.478723</td>\n",
       "      <td>0.481736</td>\n",
       "      <td>0.238645</td>\n",
       "      <td>0.264664</td>\n",
       "      <td>0.171433</td>\n",
       "      <td>0.070888</td>\n",
       "      <td>2.234921</td>\n",
       "      <td>3.262852</td>\n",
       "    </tr>\n",
       "    <tr>\n",
       "      <th>min</th>\n",
       "      <td>0.000000</td>\n",
       "      <td>1.000000</td>\n",
       "      <td>0.000000</td>\n",
       "      <td>1.000000</td>\n",
       "      <td>1.000000</td>\n",
       "      <td>0.000000</td>\n",
       "      <td>0.000000</td>\n",
       "      <td>0.000000</td>\n",
       "      <td>0.000000</td>\n",
       "      <td>0.000000</td>\n",
       "      <td>0.000000</td>\n",
       "      <td>1.000000</td>\n",
       "      <td>2.000000</td>\n",
       "    </tr>\n",
       "    <tr>\n",
       "      <th>25%</th>\n",
       "      <td>49.500000</td>\n",
       "      <td>1.000000</td>\n",
       "      <td>0.000000</td>\n",
       "      <td>1.000000</td>\n",
       "      <td>1.000000</td>\n",
       "      <td>0.000000</td>\n",
       "      <td>0.000000</td>\n",
       "      <td>0.000000</td>\n",
       "      <td>0.000000</td>\n",
       "      <td>0.000000</td>\n",
       "      <td>0.000000</td>\n",
       "      <td>1.000000</td>\n",
       "      <td>5.000000</td>\n",
       "    </tr>\n",
       "    <tr>\n",
       "      <th>50%</th>\n",
       "      <td>100.000000</td>\n",
       "      <td>1.000000</td>\n",
       "      <td>1.000000</td>\n",
       "      <td>3.000000</td>\n",
       "      <td>1.000000</td>\n",
       "      <td>0.000000</td>\n",
       "      <td>0.000000</td>\n",
       "      <td>0.000000</td>\n",
       "      <td>0.000000</td>\n",
       "      <td>0.000000</td>\n",
       "      <td>0.000000</td>\n",
       "      <td>6.000000</td>\n",
       "      <td>7.000000</td>\n",
       "    </tr>\n",
       "    <tr>\n",
       "      <th>75%</th>\n",
       "      <td>149.500000</td>\n",
       "      <td>2.000000</td>\n",
       "      <td>1.000000</td>\n",
       "      <td>5.000000</td>\n",
       "      <td>2.000000</td>\n",
       "      <td>1.000000</td>\n",
       "      <td>1.000000</td>\n",
       "      <td>0.000000</td>\n",
       "      <td>0.000000</td>\n",
       "      <td>0.000000</td>\n",
       "      <td>0.000000</td>\n",
       "      <td>6.000000</td>\n",
       "      <td>10.000000</td>\n",
       "    </tr>\n",
       "    <tr>\n",
       "      <th>max</th>\n",
       "      <td>199.000000</td>\n",
       "      <td>3.000000</td>\n",
       "      <td>1.000000</td>\n",
       "      <td>5.000000</td>\n",
       "      <td>2.000000</td>\n",
       "      <td>1.000000</td>\n",
       "      <td>1.000000</td>\n",
       "      <td>1.000000</td>\n",
       "      <td>1.000000</td>\n",
       "      <td>1.000000</td>\n",
       "      <td>1.000000</td>\n",
       "      <td>6.000000</td>\n",
       "      <td>16.000000</td>\n",
       "    </tr>\n",
       "  </tbody>\n",
       "</table>\n",
       "</div>"
      ],
      "text/plain": [
       "            index  reporttype     serious  primarysource.qualification  \\\n",
       "count  199.000000  199.000000  199.000000                   199.000000   \n",
       "mean    99.693467    1.266332    0.693467                     3.100503   \n",
       "std     57.960292    0.454408    0.462216                     1.809054   \n",
       "min      0.000000    1.000000    0.000000                     1.000000   \n",
       "25%     49.500000    1.000000    0.000000                     1.000000   \n",
       "50%    100.000000    1.000000    1.000000                     3.000000   \n",
       "75%    149.500000    2.000000    1.000000                     5.000000   \n",
       "max    199.000000    3.000000    1.000000                     5.000000   \n",
       "\n",
       "       patient.patientsex  seriousnessother  seriousnesshospitalization  \\\n",
       "count          186.000000        199.000000                  199.000000   \n",
       "mean             1.413978          0.351759                    0.361809   \n",
       "std              0.493874          0.478723                    0.481736   \n",
       "min              1.000000          0.000000                    0.000000   \n",
       "25%              1.000000          0.000000                    0.000000   \n",
       "50%              1.000000          0.000000                    0.000000   \n",
       "75%              2.000000          1.000000                    1.000000   \n",
       "max              2.000000          1.000000                    1.000000   \n",
       "\n",
       "       seriousnesslifethreatening  seriousnessdeath  seriousnessdisabling  \\\n",
       "count                  199.000000        199.000000            199.000000   \n",
       "mean                     0.060302          0.075377              0.030151   \n",
       "std                      0.238645          0.264664              0.171433   \n",
       "min                      0.000000          0.000000              0.000000   \n",
       "25%                      0.000000          0.000000              0.000000   \n",
       "50%                      0.000000          0.000000              0.000000   \n",
       "75%                      0.000000          0.000000              0.000000   \n",
       "max                      1.000000          1.000000              1.000000   \n",
       "\n",
       "       seriousnesscongenitalanomali  reactionoutcome  \\\n",
       "count                    199.000000       196.000000   \n",
       "mean                       0.005025         4.000000   \n",
       "std                        0.070888         2.234921   \n",
       "min                        0.000000         1.000000   \n",
       "25%                        0.000000         1.000000   \n",
       "50%                        0.000000         6.000000   \n",
       "75%                        0.000000         6.000000   \n",
       "max                        1.000000         6.000000   \n",
       "\n",
       "       patient.patientonsetageyear  \n",
       "count                   158.000000  \n",
       "mean                      7.312764  \n",
       "std                       3.262852  \n",
       "min                       2.000000  \n",
       "25%                       5.000000  \n",
       "50%                       7.000000  \n",
       "75%                      10.000000  \n",
       "max                      16.000000  "
      ]
     },
     "execution_count": 6,
     "metadata": {},
     "output_type": "execute_result"
    }
   ],
   "source": [
    "pediatric_data.describe()"
   ]
  },
  {
   "cell_type": "markdown",
   "metadata": {},
   "source": [
    "Not all of this data is meaningful but we can still see some useful properties of the data from these statistics. \n",
    "</br>\n",
    "\n",
    "Basic checks of the boolean and categorical data have maxima and minima as expected. The means of boolean data give an indication of the skew, e.g. 54% of the reports are 'serious', defined as an adverse event resulting in death, a life threatening condition, hospitalization, disability, congenital anomaly, or other serious condition. We can also quickly see that the data are skewed towards male patients and that a serious outcome of 'other' is reported for almost 50% of the dataset.\n",
    "</br>\n",
    "\n",
    "The only continuous numerical data in this dataset is the age of the patient at the onset of the adverse response. Tthe oldest patient in our sample is 17 (we removed any outliers above this threshold) whilst the youngest is 0.6yr. The 'children' category on which the data was selected encompasses a wide range of (pediatric) ages. More detailed future analysis should consider selecting data across all pediatric categories rather than just 'child' since it seems the categories are subject to some interpretation.\n",
    "</br>\n",
    "\n",
    "Within this data, the standard deviation of patient age is 3.3 years with a mean of 7.8 years. The ages seem fairly symmetrically distributed. We plot this distribution below and mark the quartiles in red."
   ]
  },
  {
   "cell_type": "code",
   "execution_count": 7,
   "metadata": {},
   "outputs": [
    {
     "data": {
      "image/png": "[encoded data removed]",
      "text/plain": [
       "<Figure size 720x432 with 1 Axes>"
      ]
     },
     "metadata": {},
     "output_type": "display_data"
    }
   ],
   "source": [
    "# plot distribtuion of patients ages\n",
    "data_age = pediatric_data['patient.patientonsetageyear']\n",
    "ax = sns.distplot(data_age, bins=15, kde=True);\n",
    "ax.set_xlabel('patient onset age (years)');\n",
    "ax.set_title('Distribution of patient ages');\n",
    "\n",
    "# plot the quartiles\n",
    "for q in [0.25,0.5,0.75]:\n",
    "    ax.axvline(data_age.quantile(q), 0, 1, color='C2', alpha=0.7)"
   ]
  },
  {
   "cell_type": "markdown",
   "metadata": {},
   "source": [
    "### Exploring types of adverse response outcomes"
   ]
  },
  {
   "cell_type": "markdown",
   "metadata": {},
   "source": [
    "Similar to our analysis for the full database (presented in the [Exploring_OpenFDA_Adverse_Reactions notebook](https://github.com/ambevan/OpenFDA_Case_Study/blob/master/Exploring_OpenFDA_Adverse_Reactions.ipynb)), we can now perform some basic analysis and exploration of the cleaned pediatric dataset before building a more sophisticated model. We are primarily interested in the severity of the adverse response and so we start by exploring this feature.\n",
    "\n",
    "We being by considering the relative proportions of seriousness outcomes in the data."
   ]
  },
  {
   "cell_type": "code",
   "execution_count": 8,
   "metadata": {},
   "outputs": [
    {
     "data": {
      "image/png": "[encoded data removed]",
      "text/plain": [
       "<Figure size 1296x360 with 2 Axes>"
      ]
     },
     "metadata": {},
     "output_type": "display_data"
    }
   ],
   "source": [
    "# create pie chart for serious vs not serious\n",
    "fig1, (ax1, ax2) = plt.subplots(nrows=1, ncols=2,figsize=(18,5))\n",
    "pediatric_data.serious.value_counts().plot.pie(labels=['serious','not serious'], ax=ax1, autopct='%1.0f%%');\n",
    "ax1.set_ylabel('severity of adverse response');\n",
    "\n",
    "# create pie chart showing all seriousness outcomes\n",
    "seriousness_col_names = ['seriousnesslifethreatening',\n",
    "                         'seriousnesscongenitalanomali',\n",
    "                         'seriousnesshospitalization', \n",
    "                         'seriousnessother',\n",
    "                         'seriousnessdeath' ,\n",
    "                         'seriousnessdisabling'\n",
    "                        ]\n",
    "labels = [item.replace('seriousness','') for item in seriousness_col_names]\n",
    "df_serious = pediatric_data[seriousness_col_names]\n",
    "df_serious.sum().plot.pie(ax=ax2, autopct='%1.0f%%', labels=labels, startangle=-20)\n",
    "ax2.set_ylabel('nature of serious response');"
   ]
  },
  {
   "cell_type": "markdown",
   "metadata": {},
   "source": [
    "We can see that the fraction of reported serious adverse responses is similar to the entire population calculated in our [population study](https://github.com/ambevan/OpenFDA_Case_Study/blob/master/Exploring_OpenFDA_Adverse_Reactions.ipynb) (54% compared to 59%). Of those where the nature of the serious reponse was reported, the majority (60%) reported a response that did not result in death, disability, congenital anomali, a threat to life or hospitalisation."
   ]
  },
  {
   "cell_type": "markdown",
   "metadata": {},
   "source": [
    "Two different but comparable metrics exist within the database that give an indication of severity. We can gain some undersading of the accuracy of the data by comparing these metrics. We know whether the outcome was classified as 'serious' or 'not serious'. We also have the nature of the outcome as falling into one of these categories:\n",
    "\n",
    "* 1 = Recovered/resolved\n",
    "* 2 = Recovering/resolving\n",
    "* 3 = Not recovered/not resolved\n",
    "* 4 = Recovered/resolved with sequelae (consequent health issues)\n",
    "* 5 = Fatal\n",
    "* 6 = Unknown\n",
    "\n",
    "We can examine the relative frequencies of these outcomes in our data (ignoring any blanks or unknowns)."
   ]
  },
  {
   "cell_type": "code",
   "execution_count": 9,
   "metadata": {},
   "outputs": [
    {
     "data": {
      "image/png": "[encoded data removed]",
      "text/plain": [
       "<Figure size 720x432 with 1 Axes>"
      ]
     },
     "metadata": {},
     "output_type": "display_data"
    }
   ],
   "source": [
    "# count and plot frequencies of patient coutcomes\n",
    "outcome_df = pediatric_data.reactionoutcome.value_counts()\n",
    "outcome_df.sort_index(inplace=True)\n",
    "labels_dict = {1 : 'Recovered/resolved',\n",
    "               2 : 'Recovering/resolving',\n",
    "               3 : 'Not recovered/not resolved',\n",
    "               4 : 'Recovered/resolved with sequelae (consequent health issues)',\n",
    "               5 : 'Fatal',\n",
    "               6 : 'Unknown'\n",
    "              }\n",
    "ax1 = outcome_df[outcome_df.index != 6].plot.pie(autopct='%1.0f%%', labels=labels_dict.values(), startangle=40);                 "
   ]
  },
  {
   "cell_type": "markdown",
   "metadata": {},
   "source": [
    "Some categories can be compared directly. For example the number of reports listing the outcome as 'death' is 11% by this metric compared to 8% by the feature 'seriousness outcome'. When combined with the relative sparsity of entries in teh seriousness outcome fields, we might infer that this metric may be more reliable.\n",
    "\n",
    "It is noteworthy that many reports indicate multiple serious outcomes, for example hospitalization and death are not mutually exclusive and consequently they are not mutually exclusive. "
   ]
  },
  {
   "cell_type": "markdown",
   "metadata": {},
   "source": [
    "### Exploring the impact of age on adverse response outcomes"
   ]
  },
  {
   "cell_type": "code",
   "execution_count": 10,
   "metadata": {},
   "outputs": [
    {
     "data": {
      "text/html": [
       "<div>\n",
       "<style scoped>\n",
       "    .dataframe tbody tr th:only-of-type {\n",
       "        vertical-align: middle;\n",
       "    }\n",
       "\n",
       "    .dataframe tbody tr th {\n",
       "        vertical-align: top;\n",
       "    }\n",
       "\n",
       "    .dataframe thead th {\n",
       "        text-align: right;\n",
       "    }\n",
       "</style>\n",
       "<table border=\"1\" class=\"dataframe\">\n",
       "  <thead>\n",
       "    <tr style=\"text-align: right;\">\n",
       "      <th></th>\n",
       "      <th>index</th>\n",
       "      <th>reporttype</th>\n",
       "      <th>primarysource.qualification</th>\n",
       "      <th>patient.patientsex</th>\n",
       "      <th>seriousnessother</th>\n",
       "      <th>seriousnesshospitalization</th>\n",
       "      <th>seriousnesslifethreatening</th>\n",
       "      <th>seriousnessdeath</th>\n",
       "      <th>seriousnessdisabling</th>\n",
       "      <th>seriousnesscongenitalanomali</th>\n",
       "      <th>reactionoutcome</th>\n",
       "      <th>patient.patientonsetageyear</th>\n",
       "    </tr>\n",
       "    <tr>\n",
       "      <th>serious</th>\n",
       "      <th></th>\n",
       "      <th></th>\n",
       "      <th></th>\n",
       "      <th></th>\n",
       "      <th></th>\n",
       "      <th></th>\n",
       "      <th></th>\n",
       "      <th></th>\n",
       "      <th></th>\n",
       "      <th></th>\n",
       "      <th></th>\n",
       "      <th></th>\n",
       "    </tr>\n",
       "  </thead>\n",
       "  <tbody>\n",
       "    <tr>\n",
       "      <th>0</th>\n",
       "      <td>78.229508</td>\n",
       "      <td>1.032787</td>\n",
       "      <td>4.049180</td>\n",
       "      <td>1.517857</td>\n",
       "      <td>0.000000</td>\n",
       "      <td>0.000000</td>\n",
       "      <td>0.000000</td>\n",
       "      <td>0.000000</td>\n",
       "      <td>0.000000</td>\n",
       "      <td>0.000000</td>\n",
       "      <td>5.213115</td>\n",
       "      <td>6.915064</td>\n",
       "    </tr>\n",
       "    <tr>\n",
       "      <th>1</th>\n",
       "      <td>109.181159</td>\n",
       "      <td>1.369565</td>\n",
       "      <td>2.681159</td>\n",
       "      <td>1.369231</td>\n",
       "      <td>0.507246</td>\n",
       "      <td>0.521739</td>\n",
       "      <td>0.086957</td>\n",
       "      <td>0.108696</td>\n",
       "      <td>0.043478</td>\n",
       "      <td>0.007246</td>\n",
       "      <td>3.451852</td>\n",
       "      <td>7.507862</td>\n",
       "    </tr>\n",
       "  </tbody>\n",
       "</table>\n",
       "</div>"
      ],
      "text/plain": [
       "              index  reporttype  primarysource.qualification  \\\n",
       "serious                                                        \n",
       "0         78.229508    1.032787                     4.049180   \n",
       "1        109.181159    1.369565                     2.681159   \n",
       "\n",
       "         patient.patientsex  seriousnessother  seriousnesshospitalization  \\\n",
       "serious                                                                     \n",
       "0                  1.517857          0.000000                    0.000000   \n",
       "1                  1.369231          0.507246                    0.521739   \n",
       "\n",
       "         seriousnesslifethreatening  seriousnessdeath  seriousnessdisabling  \\\n",
       "serious                                                                       \n",
       "0                          0.000000          0.000000              0.000000   \n",
       "1                          0.086957          0.108696              0.043478   \n",
       "\n",
       "         seriousnesscongenitalanomali  reactionoutcome  \\\n",
       "serious                                                  \n",
       "0                            0.000000         5.213115   \n",
       "1                            0.007246         3.451852   \n",
       "\n",
       "         patient.patientonsetageyear  \n",
       "serious                               \n",
       "0                           6.915064  \n",
       "1                           7.507862  "
      ]
     },
     "execution_count": 10,
     "metadata": {},
     "output_type": "execute_result"
    }
   ],
   "source": [
    "pediatric_data.groupby('serious').mean()"
   ]
  },
  {
   "cell_type": "markdown",
   "metadata": {},
   "source": [
    "It seems that reports of serious adverse effects are more likely to be seen in slightly younger patients. We consdier their relative distributions and compare them at a 95% significane level using a z-test."
   ]
  },
  {
   "cell_type": "code",
   "execution_count": 11,
   "metadata": {},
   "outputs": [
    {
     "name": "stdout",
     "output_type": "stream",
     "text": [
      "z = -0.136  critical value = 1.64\n",
      "Do not reject null hypothesis. Insufficiest evidence for dependence.\n"
     ]
    },
    {
     "data": {
      "image/png": "[encoded data removed]",
      "text/plain": [
       "<Figure size 720x432 with 1 Axes>"
      ]
     },
     "metadata": {},
     "output_type": "display_data"
    }
   ],
   "source": [
    "# plot two distribution plots comparing serious and not serious distributions\n",
    "fig = plt.figure()\n",
    "serious_1 = pediatric_data.loc[pediatric_data.serious==1, 'patient.patientonsetageyear']\n",
    "serious_0 = pediatric_data.loc[pediatric_data.serious==0, 'patient.patientonsetageyear']\n",
    "sns.kdeplot(serious_1, label='serious');\n",
    "sns.kdeplot(serious_0, label='not serious');\n",
    "plt.xlabel('age (years)');\n",
    "\n",
    "# perform z test to compare means of distributions\n",
    "# at 95% significant level\n",
    "z = process_data.z_test(serious_0,serious_1, 0.95)"
   ]
  },
  {
   "cell_type": "markdown",
   "metadata": {},
   "source": [
    "Whilst the 'not serious' responses are more skewed to older children, there is not enough evidence here to reject the null hypothesis that age is a significant factor in the severity of adverse reports."
   ]
  },
  {
   "cell_type": "markdown",
   "metadata": {},
   "source": [
    "### Exploring the impact of sex on adverse response outcomes"
   ]
  },
  {
   "cell_type": "markdown",
   "metadata": {},
   "source": [
    "We can also consider the correlation with sex using a contingency table. "
   ]
  },
  {
   "cell_type": "code",
   "execution_count": 12,
   "metadata": {},
   "outputs": [
    {
     "data": {
      "image/png": "[encoded data removed]",
      "text/plain": [
       "<Figure size 1296x468 with 3 Axes>"
      ]
     },
     "metadata": {},
     "output_type": "display_data"
    }
   ],
   "source": [
    "# create a pivot table on sex and serious\n",
    "pivot_tb = process_data.calculate_serious_pivot(pediatric_data, 'patient.patientsex')\n",
    "tb = pivot_tb.drop(columns=['total','not serious %','serious %'])\n",
    "tb = tb.divide(tb.sum().sum())\n",
    "\n",
    "# plot heatmap of contingency table \n",
    "fig, (ax1, ax2) = plt.subplots(nrows=1, ncols=2,figsize=(18,6.5))\n",
    "ax1 = sns.heatmap(tb,vmin=0.10,vmax=0.35,\n",
    "                 #norm=LogNorm(vmin=sub_data.min().min(), vmax=sub_data.max().max()),\n",
    "                 annot=True,\n",
    "                fmt='.1%', ax=ax1);\n",
    "ax1.set_xlabel('');\n",
    "ax1.set_ylabel('');\n",
    "ax1.set_yticklabels(['male','female']);\n",
    "\n",
    "# plot bar chart showing relative frequencies of serious/not serious by sex \n",
    "process_data.plot_serious_pivot(pivot_tb, 'route', ax2)\n",
    "ax2.set_title('percentage serious vs not serious reports by sex');\n",
    "ax2.set_xticklabels(['male','female']);\n",
    "ax2.set_xlabel('');\n",
    "ax2.set_ylabel('%');"
   ]
  },
  {
   "cell_type": "markdown",
   "metadata": {},
   "source": [
    "We can see that there are significantly more reports of adverse reponses in male patients in the database. This might suggest that male patients are more likely to suffer adverse respones or that they are more likely to report adverse responses than female patients (or both). \n",
    "\n",
    "One indication that suggests male patients might simply be more likely to report adverse effects (either directly or through a clinician) is that, of female reports, 55% of reports were for serious adverse effects compared to 45% for not serious. The number of serious and non-serious adverse reports for male patients in the data is 50:50."
   ]
  },
  {
   "cell_type": "markdown",
   "metadata": {},
   "source": [
    "We can calculate pearson's $\\chi^2$ correlation coefficient to understand whether these results are significant (i.e. whether, for a given confidence level, there is a correlation between sex and severity of response). We will choose a 99\\% confidence interval. "
   ]
  },
  {
   "cell_type": "code",
   "execution_count": 13,
   "metadata": {},
   "outputs": [
    {
     "name": "stdout",
     "output_type": "stream",
     "text": [
      "dof = 1  probability = 0.990 | critical = 6.635   chi2 = 2.978\n",
      "\n",
      "Do not reject null hypothesis. Insufficiest evidence for dependence.\n"
     ]
    }
   ],
   "source": [
    "process_data.significance_test(pivot_tb[['not serious','serious']], 0.99)"
   ]
  },
  {
   "cell_type": "markdown",
   "metadata": {},
   "source": [
    "We find that there is sufficient evidence at the 99% significance level to reject the null hypothesis that there is no dependency between gender and the serious status of the report. This feature may be useful in a predictive model."
   ]
  },
  {
   "cell_type": "markdown",
   "metadata": {},
   "source": [
    "### Exploring the impact of country on adverse response outcomes"
   ]
  },
  {
   "cell_type": "markdown",
   "metadata": {},
   "source": [
    "A similar analysis is performed on the country in which the adverse response took place."
   ]
  },
  {
   "cell_type": "code",
   "execution_count": 20,
   "metadata": {},
   "outputs": [
    {
     "data": {
      "image/png": "[encoded data removed]",
      "text/plain": [
       "<Figure size 720x432 with 1 Axes>"
      ]
     },
     "metadata": {},
     "output_type": "display_data"
    },
    {
     "name": "stdout",
     "output_type": "stream",
     "text": [
      "dof = 1  probability = 0.990 | critical = 6.635   chi2 = 0.003\n",
      "\n",
      "Do not reject null hypothesis. Insufficiest evidence for dependence.\n"
     ]
    }
   ],
   "source": [
    "pivot_tb = process_data.calculate_serious_pivot(pediatric_data, 'occurcountry')\n",
    "ax = process_data.plot_serious_pivot(pivot_tb, 'occurcountry', annotate=True)\n",
    "ax.set_title('percentage serious vs not serious reports by country');\n",
    "plt.show()\n",
    "\n",
    "# calculate significance\n",
    "process_data.significance_test(pivot_tb[['not serious','serious']], 0.99) #consider appropriateness of pearson's chi2 here (US dominates)"
   ]
  },
  {
   "cell_type": "markdown",
   "metadata": {},
   "source": [
    "We find in this case also that, at the 99% significance level, there is sufficient evidence to reject the null hypothesis (i.e. that there is no correlation). This feature may be useful in a predictive model."
   ]
  },
  {
   "cell_type": "markdown",
   "metadata": {},
   "source": [
    "### Exploring the impact of drug administration route on adverse response outcomes"
   ]
  },
  {
   "cell_type": "markdown",
   "metadata": {},
   "source": [
    "We repeat the process again exploring the possibility that adverse response severity may be influenced by the administration route. "
   ]
  },
  {
   "cell_type": "code",
   "execution_count": 21,
   "metadata": {},
   "outputs": [
    {
     "data": {
      "image/png": "[encoded data removed]",
      "text/plain": [
       "<Figure size 720x432 with 1 Axes>"
      ]
     },
     "metadata": {},
     "output_type": "display_data"
    },
    {
     "name": "stdout",
     "output_type": "stream",
     "text": [
      "dof = 3  probability = 0.990 | critical = 11.345   chi2 = 13.488\n",
      "\n",
      "Reject null hypothesis. Variables dependent at the 99% confidence level.\n"
     ]
    }
   ],
   "source": [
    "# calculate pivot table for severity against drug administration route\n",
    "pivot_tb = process_data.calculate_serious_pivot(pediatric_data, 'route')\n",
    "ax = process_data.plot_serious_pivot(pivot_tb, 'route', annotate=True)\n",
    "ax.set_title('percentage serious vs not serious reports by route');\n",
    "plt.show()\n",
    "\n",
    "# calculate significance\n",
    "process_data.significance_test(pivot_tb[['not serious','serious']], 0.99)"
   ]
  },
  {
   "cell_type": "markdown",
   "metadata": {},
   "source": [
    "We find that, again, there enough evidence at a 99% significance level to reject the null hypothesis. \n",
    "\n",
    "</br>"
   ]
  },
  {
   "cell_type": "markdown",
   "metadata": {},
   "source": [
    "We have discovered at least three factors that are correlated with the severity of the adverse response reports. With further time, interpretation of these correlations would benefit from comparison to general population data, a larger dataset and a more detailed understanding how and why adverse reports are made to the database. "
   ]
  },
  {
   "cell_type": "markdown",
   "metadata": {},
   "source": [
    "## Logistic Regression model"
   ]
  },
  {
   "cell_type": "markdown",
   "metadata": {},
   "source": [
    "I am interested to construct a mode to predict the severity of adverse respones given certain information about a patient and the drug(s) that they are taking. The model would require significant fine tuning taking longer than the time available to complete this task. However, I include a representative approach using logistic regression to classify severity as serious or not serious. This simple model performs poorly but a variety of approaches might improve the accuracy of the model. I discuss these below."
   ]
  },
  {
   "cell_type": "code",
   "execution_count": 22,
   "metadata": {},
   "outputs": [],
   "source": [
    "from sklearn.impute import SimpleImputer\n",
    "from sklearn.linear_model import LogisticRegression\n",
    "from sklearn import metrics\n",
    "from sklearn.model_selection import train_test_split\n",
    "from sklearn.preprocessing import LabelEncoder\n",
    "import process_data as process"
   ]
  },
  {
   "cell_type": "markdown",
   "metadata": {},
   "source": [
    "I will establish a simple model based only on gender, age of patient and drug administration route. Initially the data needs further cleaning and preprocesing. "
   ]
  },
  {
   "cell_type": "markdown",
   "metadata": {},
   "source": [
    "#### Further cleaning of the data"
   ]
  },
  {
   "cell_type": "code",
   "execution_count": 23,
   "metadata": {},
   "outputs": [
    {
     "name": "stdout",
     "output_type": "stream",
     "text": [
      "13 of 199 rows with missing sex removed (6.53%)\n"
     ]
    }
   ],
   "source": [
    "# Shuffle the data in case it is sorted\n",
    "data = pediatric_data.sample(frac=1).reset_index(drop=True)\n",
    "\n",
    "# Remove all rows with no gender specified \n",
    "# (could have alternatively mapped to additional category)\n",
    "print(f\"{data['patient.patientsex'].isna().sum()} of {data['index'].count()} \" \n",
    "      f\"rows with missing sex removed \"\n",
    "     f\"({data['patient.patientsex'].isna().sum()/data['index'].count():.2%})\")\n",
    "data = data[data['patient.patientsex'].notna()]\n",
    "\n",
    "# Due to small numbers, group least prevalent routes into 'other'\n",
    "# Kepp only most prevalent routes (>10% of data)\n",
    "data = process.map_routes(data, 0.1)\n",
    "\n",
    "# Map routes with missing values to new category 'unknown'\n",
    "data.route_summary = data.route_summary.fillna('UNKNOWN')"
   ]
  },
  {
   "cell_type": "markdown",
   "metadata": {},
   "source": [
    "#### Impute missing values and construct logistic regressor"
   ]
  },
  {
   "cell_type": "code",
   "execution_count": 24,
   "metadata": {},
   "outputs": [],
   "source": [
    "# Select features to model\n",
    "X = data[['patient.patientsex', 'patient.patientonsetageyear', 'route_summary']]\n",
    "y = data['serious']\n",
    "\n",
    "# Split into training data and validation data (consider cross-validation later)\n",
    "X_train, X_valid, y_train, y_valid = train_test_split(X, y, test_size=0.3, random_state=0)\n",
    "\n",
    "# Imputation: list categorical and numerical columns\n",
    "cols_cat = ['route_summary']\n",
    "patient_age = 'patient.patientonsetageyear'\n",
    "imputed_X_train = X_train.copy()\n",
    "imputed_X_valid = X_valid.copy()\n",
    "\n",
    "# Apply label encoder to each column with categorical data\n",
    "label_encoder = LabelEncoder()\n",
    "for col in cols_cat:\n",
    "    imputed_X_train[col] = label_encoder.fit_transform(X_train[col].astype(str))\n",
    "    imputed_X_valid[col] = label_encoder.transform(X_valid[col].astype(str))\n",
    "\n",
    "# Imputation: replace missing numerical data with mean value\n",
    "process.impute_on_mean(imputed_X_train, 'patient.patientonsetageyear')\n",
    "process.impute_on_mean(imputed_X_valid, 'patient.patientonsetageyear')\n",
    "\n",
    "# Imputation removed column names; put them back\n",
    "imputed_X_train.columns = X_train.columns\n",
    "imputed_X_valid.columns = X_valid.columns\n",
    "\n",
    "# define logistic regression model\n",
    "log_reg = LogisticRegression();\n",
    "log_reg.fit(imputed_X_train, y_train);"
   ]
  },
  {
   "cell_type": "markdown",
   "metadata": {},
   "source": [
    "#### Determine accuracy of model"
   ]
  },
  {
   "cell_type": "code",
   "execution_count": 25,
   "metadata": {},
   "outputs": [
    {
     "name": "stdout",
     "output_type": "stream",
     "text": [
      "Accuracy of logistic regression classifier on validation set: 0.70\n"
     ]
    },
    {
     "data": {
      "image/png": "[encoded data removed]",
      "text/plain": [
       "<Figure size 1080x360 with 3 Axes>"
      ]
     },
     "metadata": {},
     "output_type": "display_data"
    },
    {
     "name": "stdout",
     "output_type": "stream",
     "text": [
      "              precision    recall  f1-score   support\n",
      "\n",
      "           0       0.22      0.17      0.19        12\n",
      "           1       0.79      0.84      0.81        44\n",
      "\n",
      "    accuracy                           0.70        56\n",
      "   macro avg       0.50      0.50      0.50        56\n",
      "weighted avg       0.67      0.70      0.68        56\n",
      "\n"
     ]
    }
   ],
   "source": [
    "# predict \n",
    "y_pred = log_reg.predict(imputed_X_valid)\n",
    "print('Accuracy of logistic regression classifier on validation set: {:.2f}'.format(log_reg.score(imputed_X_valid, y_valid)))\n",
    "confusion_matrix = metrics.confusion_matrix(y_valid, y_pred)\n",
    "fig, (ax1, ax2) = plt.subplots(nrows=1,ncols=2,figsize=(15,5))\n",
    "sns.heatmap(confusion_matrix/np.sum(confusion_matrix),annot=True,fmt='.1%',ax=ax1);\n",
    "ax1.set_xlabel('predicted');\n",
    "ax1.set_ylabel('true');\n",
    "ax1.xaxis.tick_top()\n",
    "ax1.xaxis.set_label_position('top');\n",
    "\n",
    "#plot ROC curve\n",
    "fpr, tpr, _ = metrics.roc_curve(y_valid, y_pred)\n",
    "ax2.plot(fpr, tpr);\n",
    "ax2.set_xlabel('false positive rate')\n",
    "ax2.set_ylabel('true positive rate')\n",
    "ax2.set_title('ROC curve')\n",
    "plt.show()\n",
    "\n",
    "print(metrics.classification_report(y_valid, y_pred))"
   ]
  },
  {
   "cell_type": "markdown",
   "metadata": {},
   "source": [
    "The accuracy is extremely poor for this model (little better than random). There are likely many reasons for this and I list possible next steps to improve the model below."
   ]
  },
  {
   "cell_type": "markdown",
   "metadata": {},
   "source": [
    "#### Next steps to improve the model"
   ]
  },
  {
   "cell_type": "markdown",
   "metadata": {},
   "source": [
    "* Increase the volume of data\n",
    "* Increase the number of features (e.g. country, drug type, pediatric indication, prescription/OTC)\n",
    "* Balance the dataset\n",
    "* Reintroduce less common administration routes\n",
    "* Alter encoding (use one-hot encoding)\n",
    "* Cross-validation\n",
    "* Alternative approaches e.g random forest or XGBoost\n",
    "\n",
    "Additionally, I would build the code into a pipeline rather than having each step as laid out above."
   ]
  },
  {
   "cell_type": "markdown",
   "metadata": {},
   "source": [
    "## Conclusions"
   ]
  },
  {
   "cell_type": "markdown",
   "metadata": {},
   "source": [
    "I have explored the FDA Adverse Reaction System and summaried the data it contains in [the first notebook](https://github.com/ambevan/OpenFDA_Case_Study/blob/master/Exploring_OpenFDA_Adverse_Reactions.ipynb). Simple frequency plots and calculations are performed to understand where reports comes from, the number of reports over time, the gender breakdown of reports and the severity of the adverse responses reported.\n",
    "\n",
    "In a second stage, I have pulled records directly from the data to create a dataset of 5000 reports of adverse respones in the patient age group category 'children'. Using these data, I have examined the correlation of severity of response with various other reported features including age, gender, drug administration route and country. In all cases except age, a statistically significant correlation is observed. The analysis could be improved by ensuring balanced samples and accounting for variations within the population at large. A larger dataset would also produce more reliable results. Given the age range found in the 'child' category, it would likely be sensible to include all pediatric patient age ranges.\n",
    "\n",
    "In a final stage, I have constructed a illustrative logistic regression model to predict a response as 'serious' or 'not serious' as defined by the FDA. This model is overly simplistic and required further refinement both for reliability and for accuracy."
   ]
  }
 ],
 "metadata": {
  "kernelspec": {
   "display_name": "Python 3",
   "language": "python",
   "name": "python3"
  },
  "language_info": {
   "codemirror_mode": {
    "name": "ipython",
    "version": 3
   },
   "file_extension": ".py",
   "mimetype": "text/x-python",
   "name": "python",
   "nbconvert_exporter": "python",
   "pygments_lexer": "ipython3",
   "version": "3.8.1"
  }
 },
 "nbformat": 4,
 "nbformat_minor": 4
}
