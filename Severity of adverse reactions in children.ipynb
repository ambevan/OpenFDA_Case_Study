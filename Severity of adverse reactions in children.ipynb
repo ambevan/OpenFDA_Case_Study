{
 "cells": [
  {
   "cell_type": "markdown",
   "metadata": {},
   "source": [
    "# Severity of adverse reactions in pediatric patients"
   ]
  },
  {
   "cell_type": "code",
   "execution_count": 1,
   "metadata": {},
   "outputs": [],
   "source": [
    "import collect_data \n",
    "import clean_data\n",
    "import pandas as pd\n",
    "import seaborn as sns\n",
    "import matplotlib.pyplot as plt\n",
    "import numpy as np\n",
    "from sklearn.impute import SimpleImputer\n",
    "\n",
    "url_base = \"https://api.fda.gov/drug/event.json?search=receivedate:[20030101+TO+20200528]\""
   ]
  },
  {
   "cell_type": "markdown",
   "metadata": {},
   "source": [
    "## Collecting the pediatric dataset"
   ]
  },
  {
   "cell_type": "markdown",
   "metadata": {},
   "source": [
    "We will first collect the data. We will initially collect only data for 'children' i.e. category 3 as reported in the database. This does not include neonates, infants or adolescents.\n",
    "\n",
    "Given the total number of children in the database (35,000), we will initially restrict our analyses to the first 5000, before later expanding the sample. "
   ]
  },
  {
   "cell_type": "code",
   "execution_count": 2,
   "metadata": {},
   "outputs": [
    {
     "data": {
      "application/vnd.jupyter.widget-view+json": {
       "model_id": "596a632f93f6450bbbac07185bb26012",
       "version_major": 2,
       "version_minor": 0
      },
      "text/plain": [
       "HBox(children=(FloatProgress(value=0.0, description='Progress', max=50.0, style=ProgressStyle(description_widt…"
      ]
     },
     "metadata": {},
     "output_type": "display_data"
    },
    {
     "name": "stdout",
     "output_type": "stream",
     "text": [
      "\n"
     ]
    }
   ],
   "source": [
    "n_reports = 5000\n",
    "\n",
    "# collect pediatric data from database and normalise\n",
    "raw_pediatric = collect_data.collect_pediatric_data(n_reports)\n",
    "raw_pediatric.reset_index(drop=True, inplace=True)\n",
    "flat_pediatric = collect_data.flatten_dataframe(raw_pediatric)"
   ]
  },
  {
   "cell_type": "markdown",
   "metadata": {},
   "source": [
    "## Cleaning the data"
   ]
  },
  {
   "cell_type": "markdown",
   "metadata": {},
   "source": [
    "We clean the data to remove unecessary/undesired columns, impute missing values and remove columns with a high fraction of missing values, remove duplicates, format types appropriately, and filter any outliers."
   ]
  },
  {
   "cell_type": "code",
   "execution_count": 9,
   "metadata": {},
   "outputs": [],
   "source": [
    "#drop duplicates\n",
    "clean_pediatric = clean_data.drop_unnecessary_columns(flat_pediatric)\n",
    "clean_pediatric = clean_data.fill_seriousness_nan(clean_pediatric)\n",
    "clean_pediatric = clean_data.remove_nan_columns(clean_pediatric, 40)\n",
    "clean_pediatric = clean_data.fix_data_types(clean_pediatric)\n",
    "clean_pediatric = clean_data.reformat_onsetage(clean_pediatric)\n",
    "clean_pediatric = clean_data.remove_outliers(clean_pediatric)\n",
    "pediatric_data = clean_pediatric.reset_index()"
   ]
  },
  {
   "cell_type": "markdown",
   "metadata": {},
   "source": [
    "Examine the dataset by eye to look for anomalies and problems."
   ]
  },
  {
   "cell_type": "code",
   "execution_count": 10,
   "metadata": {},
   "outputs": [
    {
     "data": {
      "text/html": [
       "<div>\n",
       "<style scoped>\n",
       "    .dataframe tbody tr th:only-of-type {\n",
       "        vertical-align: middle;\n",
       "    }\n",
       "\n",
       "    .dataframe tbody tr th {\n",
       "        vertical-align: top;\n",
       "    }\n",
       "\n",
       "    .dataframe thead th {\n",
       "        text-align: right;\n",
       "    }\n",
       "</style>\n",
       "<table border=\"1\" class=\"dataframe\">\n",
       "  <thead>\n",
       "    <tr style=\"text-align: right;\">\n",
       "      <th></th>\n",
       "      <th>index</th>\n",
       "      <th>reporttype</th>\n",
       "      <th>serious</th>\n",
       "      <th>primarysource.qualification</th>\n",
       "      <th>patient.patientsex</th>\n",
       "      <th>seriousnessother</th>\n",
       "      <th>seriousnesshospitalization</th>\n",
       "      <th>seriousnesslifethreatening</th>\n",
       "      <th>seriousnessdeath</th>\n",
       "      <th>seriousnessdisabling</th>\n",
       "      <th>seriousnesscongenitalanomali</th>\n",
       "      <th>reactionoutcome</th>\n",
       "      <th>patient.patientonsetageyear</th>\n",
       "    </tr>\n",
       "  </thead>\n",
       "  <tbody>\n",
       "    <tr>\n",
       "      <th>count</th>\n",
       "      <td>5000.000000</td>\n",
       "      <td>5000.000000</td>\n",
       "      <td>5000.000000</td>\n",
       "      <td>4983.000000</td>\n",
       "      <td>4039.000000</td>\n",
       "      <td>5000.000000</td>\n",
       "      <td>5000.000000</td>\n",
       "      <td>5000.000000</td>\n",
       "      <td>5000.000000</td>\n",
       "      <td>5000.000000</td>\n",
       "      <td>5000.000000</td>\n",
       "      <td>4879.000000</td>\n",
       "      <td>0.0</td>\n",
       "    </tr>\n",
       "    <tr>\n",
       "      <th>mean</th>\n",
       "      <td>2499.500000</td>\n",
       "      <td>1.257400</td>\n",
       "      <td>1.464000</td>\n",
       "      <td>3.491070</td>\n",
       "      <td>1.331270</td>\n",
       "      <td>0.365200</td>\n",
       "      <td>0.166400</td>\n",
       "      <td>0.017800</td>\n",
       "      <td>0.048400</td>\n",
       "      <td>0.006200</td>\n",
       "      <td>0.003200</td>\n",
       "      <td>4.598073</td>\n",
       "      <td>NaN</td>\n",
       "    </tr>\n",
       "    <tr>\n",
       "      <th>std</th>\n",
       "      <td>1443.520003</td>\n",
       "      <td>0.450317</td>\n",
       "      <td>0.498752</td>\n",
       "      <td>1.702912</td>\n",
       "      <td>0.470728</td>\n",
       "      <td>0.481534</td>\n",
       "      <td>0.372477</td>\n",
       "      <td>0.132237</td>\n",
       "      <td>0.214631</td>\n",
       "      <td>0.078503</td>\n",
       "      <td>0.056484</td>\n",
       "      <td>1.999632</td>\n",
       "      <td>NaN</td>\n",
       "    </tr>\n",
       "    <tr>\n",
       "      <th>min</th>\n",
       "      <td>0.000000</td>\n",
       "      <td>1.000000</td>\n",
       "      <td>1.000000</td>\n",
       "      <td>1.000000</td>\n",
       "      <td>1.000000</td>\n",
       "      <td>0.000000</td>\n",
       "      <td>0.000000</td>\n",
       "      <td>0.000000</td>\n",
       "      <td>0.000000</td>\n",
       "      <td>0.000000</td>\n",
       "      <td>0.000000</td>\n",
       "      <td>1.000000</td>\n",
       "      <td>NaN</td>\n",
       "    </tr>\n",
       "    <tr>\n",
       "      <th>25%</th>\n",
       "      <td>1249.750000</td>\n",
       "      <td>1.000000</td>\n",
       "      <td>1.000000</td>\n",
       "      <td>1.000000</td>\n",
       "      <td>1.000000</td>\n",
       "      <td>0.000000</td>\n",
       "      <td>0.000000</td>\n",
       "      <td>0.000000</td>\n",
       "      <td>0.000000</td>\n",
       "      <td>0.000000</td>\n",
       "      <td>0.000000</td>\n",
       "      <td>3.000000</td>\n",
       "      <td>NaN</td>\n",
       "    </tr>\n",
       "    <tr>\n",
       "      <th>50%</th>\n",
       "      <td>2499.500000</td>\n",
       "      <td>1.000000</td>\n",
       "      <td>1.000000</td>\n",
       "      <td>5.000000</td>\n",
       "      <td>1.000000</td>\n",
       "      <td>0.000000</td>\n",
       "      <td>0.000000</td>\n",
       "      <td>0.000000</td>\n",
       "      <td>0.000000</td>\n",
       "      <td>0.000000</td>\n",
       "      <td>0.000000</td>\n",
       "      <td>6.000000</td>\n",
       "      <td>NaN</td>\n",
       "    </tr>\n",
       "    <tr>\n",
       "      <th>75%</th>\n",
       "      <td>3749.250000</td>\n",
       "      <td>2.000000</td>\n",
       "      <td>2.000000</td>\n",
       "      <td>5.000000</td>\n",
       "      <td>2.000000</td>\n",
       "      <td>1.000000</td>\n",
       "      <td>0.000000</td>\n",
       "      <td>0.000000</td>\n",
       "      <td>0.000000</td>\n",
       "      <td>0.000000</td>\n",
       "      <td>0.000000</td>\n",
       "      <td>6.000000</td>\n",
       "      <td>NaN</td>\n",
       "    </tr>\n",
       "    <tr>\n",
       "      <th>max</th>\n",
       "      <td>4999.000000</td>\n",
       "      <td>4.000000</td>\n",
       "      <td>2.000000</td>\n",
       "      <td>5.000000</td>\n",
       "      <td>2.000000</td>\n",
       "      <td>1.000000</td>\n",
       "      <td>1.000000</td>\n",
       "      <td>1.000000</td>\n",
       "      <td>1.000000</td>\n",
       "      <td>1.000000</td>\n",
       "      <td>1.000000</td>\n",
       "      <td>6.000000</td>\n",
       "      <td>NaN</td>\n",
       "    </tr>\n",
       "  </tbody>\n",
       "</table>\n",
       "</div>"
      ],
      "text/plain": [
       "             index   reporttype      serious  primarysource.qualification  \\\n",
       "count  5000.000000  5000.000000  5000.000000                  4983.000000   \n",
       "mean   2499.500000     1.257400     1.464000                     3.491070   \n",
       "std    1443.520003     0.450317     0.498752                     1.702912   \n",
       "min       0.000000     1.000000     1.000000                     1.000000   \n",
       "25%    1249.750000     1.000000     1.000000                     1.000000   \n",
       "50%    2499.500000     1.000000     1.000000                     5.000000   \n",
       "75%    3749.250000     2.000000     2.000000                     5.000000   \n",
       "max    4999.000000     4.000000     2.000000                     5.000000   \n",
       "\n",
       "       patient.patientsex  seriousnessother  seriousnesshospitalization  \\\n",
       "count         4039.000000       5000.000000                 5000.000000   \n",
       "mean             1.331270          0.365200                    0.166400   \n",
       "std              0.470728          0.481534                    0.372477   \n",
       "min              1.000000          0.000000                    0.000000   \n",
       "25%              1.000000          0.000000                    0.000000   \n",
       "50%              1.000000          0.000000                    0.000000   \n",
       "75%              2.000000          1.000000                    0.000000   \n",
       "max              2.000000          1.000000                    1.000000   \n",
       "\n",
       "       seriousnesslifethreatening  seriousnessdeath  seriousnessdisabling  \\\n",
       "count                 5000.000000       5000.000000           5000.000000   \n",
       "mean                     0.017800          0.048400              0.006200   \n",
       "std                      0.132237          0.214631              0.078503   \n",
       "min                      0.000000          0.000000              0.000000   \n",
       "25%                      0.000000          0.000000              0.000000   \n",
       "50%                      0.000000          0.000000              0.000000   \n",
       "75%                      0.000000          0.000000              0.000000   \n",
       "max                      1.000000          1.000000              1.000000   \n",
       "\n",
       "       seriousnesscongenitalanomali  reactionoutcome  \\\n",
       "count                   5000.000000      4879.000000   \n",
       "mean                       0.003200         4.598073   \n",
       "std                        0.056484         1.999632   \n",
       "min                        0.000000         1.000000   \n",
       "25%                        0.000000         3.000000   \n",
       "50%                        0.000000         6.000000   \n",
       "75%                        0.000000         6.000000   \n",
       "max                        1.000000         6.000000   \n",
       "\n",
       "       patient.patientonsetageyear  \n",
       "count                          0.0  \n",
       "mean                           NaN  \n",
       "std                            NaN  \n",
       "min                            NaN  \n",
       "25%                            NaN  \n",
       "50%                            NaN  \n",
       "75%                            NaN  \n",
       "max                            NaN  "
      ]
     },
     "execution_count": 10,
     "metadata": {},
     "output_type": "execute_result"
    }
   ],
   "source": [
    "pediatric_data.describe()"
   ]
  },
  {
   "cell_type": "markdown",
   "metadata": {},
   "source": [
    "We will now handle any remaining missing data by imputing a new category 'unknown' for the categorical data, and applying a 'mean' or 'most frequent' strategy to the numerical data.\n"
   ]
  },
  {
   "cell_type": "markdown",
   "metadata": {},
   "source": [
    "## Exploratory Data Analysis - Pediatric Dataset"
   ]
  },
  {
   "cell_type": "markdown",
   "metadata": {},
   "source": [
    "Similar to our analysis for the full database (presented in the [Exploring_OpenFDA_Adverse_Reactions notebook](https://github.com/ambevan/OpenFDA_Case_Study/blob/master/Exploring_OpenFDA_Adverse_Reactions.ipynb)), we can now perform some basic analysis and exploration of the cleaned pediatric dataset before building a more sophisticated model. We are predominantly interested in the severity of the adverse effect and so we start by exploring this feature.\n",
    "\n",
    "We can see that the fraction of reported serious adverse responses is similar to the entire population (54% compared to 59%). Of those where the nature of the serious reponse is reported, the majority (60%) report a response that did not result in death, disability, congenital anomali, a threat to lif or hospitalisation."
   ]
  },
  {
   "cell_type": "code",
   "execution_count": 69,
   "metadata": {},
   "outputs": [
    {
     "data": {
      "image/png": "[encoded data removed]",
      "text/plain": [
       "<Figure size 1296x360 with 2 Axes>"
      ]
     },
     "metadata": {},
     "output_type": "display_data"
    }
   ],
   "source": [
    "fig1, (ax1, ax2) = plt.subplots(nrows=1, ncols=2,figsize=(18,5))\n",
    "pediatric_data.serious.value_counts().plot.pie(labels=['serious','not serious'], ax=ax1, autopct='%1.0f%%');\n",
    "ax1.set_ylabel('severity of adverse response');\n",
    "\n",
    "seriousness_col_names = ['seriousnessdeath',\n",
    "                         'seriousnesslifethreatening',\n",
    "                         'seriousnesshospitalization', \n",
    "                         'seriousnesscongenitalanomali',\n",
    "                         'seriousnessother',\n",
    "                         'seriousnessdisabling'\n",
    "                         ]\n",
    "labels = [item.replace('seriousness','') for item in seriousness_col_names]\n",
    "df_serious = pediatric_data[seriousness_col_names]\n",
    "df_serious.sum().plot.pie(ax=ax2, autopct='%1.0f%%', labels=labels, startangle=-20)\n",
    "ax2.set_ylabel('nature of serious response');"
   ]
  },
  {
   "cell_type": "markdown",
   "metadata": {},
   "source": [
    "Two different but comparable metrics exist within the database that give an indication of severity. We can gain some undersading of the accuracy of teh data by comparing these metrics. We know whether the outcome was classified as 'serious' or 'not serious'. We also have the nature of the outcome as falling into one of these categories:\n",
    "\n",
    "* 1 = Recovered/resolved\n",
    "* 2 = Recovering/resolving\n",
    "* 3 = Not recovered/not resolved\n",
    "* 4 = Recovered/resolved with sequelae (consequent health issues)\n",
    "* 5 = Fatal\n",
    "* 6 = Unknown\n",
    "\n",
    "We can examine the relative frequencies of these outcomes in our data (ignoring any blanks or unknowns)."
   ]
  },
  {
   "cell_type": "code",
   "execution_count": 94,
   "metadata": {},
   "outputs": [
    {
     "data": {
      "image/png": "[encoded data removed]",
      "text/plain": [
       "<Figure size 360x360 with 1 Axes>"
      ]
     },
     "metadata": {},
     "output_type": "display_data"
    }
   ],
   "source": [
    "outcome_df = pediatric_data.reactionoutcome.value_counts()\n",
    "outcome_df.sort_index(inplace=True)\n",
    "labels_dict = {1 : 'Recovered/resolved',\n",
    "               2 : 'Recovering/resolving',\n",
    "               3 : 'Not recovered/not resolved',\n",
    "               4 : 'Recovered/resolved with sequelae (consequent health issues)',\n",
    "               5 : 'Fatal',\n",
    "               6 : 'Unknown'\n",
    "              }\n",
    "ax1 = outcome_df[outcome_df.index != 6].plot.pie(autopct='%1.0f%%', labels=labels_dict.values(), figsize=(5,5), startangle=40);                 "
   ]
  },
  {
   "cell_type": "code",
   "execution_count": 98,
   "metadata": {},
   "outputs": [
    {
     "data": {
      "text/plain": [
       "index                              0\n",
       "reporttype                         0\n",
       "occurcountry                      40\n",
       "serious                            0\n",
       "primarysource.qualification       17\n",
       "patient.patientsex               961\n",
       "seriousnessother                   0\n",
       "seriousnesshospitalization         0\n",
       "seriousnesslifethreatening         0\n",
       "seriousnessdeath                   0\n",
       "seriousnessdisabling               0\n",
       "seriousnesscongenitalanomali       0\n",
       "reactionoutcome                  121\n",
       "reactionmeddrapt                   0\n",
       "route                           1038\n",
       "patient.patientonsetageyear     2405\n",
       "dtype: int64"
      ]
     },
     "execution_count": 98,
     "metadata": {},
     "output_type": "execute_result"
    }
   ],
   "source": [
    "pediatric_data.isna().sum()"
   ]
  },
  {
   "cell_type": "markdown",
   "metadata": {},
   "source": [
    "## Build a model"
   ]
  },
  {
   "cell_type": "code",
   "execution_count": 8,
   "metadata": {},
   "outputs": [],
   "source": []
  },
  {
   "cell_type": "code",
   "execution_count": null,
   "metadata": {},
   "outputs": [],
   "source": []
  }
 ],
 "metadata": {
  "kernelspec": {
   "display_name": "Python 3",
   "language": "python",
   "name": "python3"
  },
  "language_info": {
   "codemirror_mode": {
    "name": "ipython",
    "version": 3
   },
   "file_extension": ".py",
   "mimetype": "text/x-python",
   "name": "python",
   "nbconvert_exporter": "python",
   "pygments_lexer": "ipython3",
   "version": "3.8.1"
  }
 },
 "nbformat": 4,
 "nbformat_minor": 4
}
