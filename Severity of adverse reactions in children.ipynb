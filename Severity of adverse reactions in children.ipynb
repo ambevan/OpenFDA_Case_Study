{
 "cells": [
  {
   "cell_type": "markdown",
   "metadata": {},
   "source": [
    "# Severity of adverse reactions in pediatric patients"
   ]
  },
  {
   "cell_type": "code",
   "execution_count": 1,
   "metadata": {},
   "outputs": [],
   "source": [
    "import collect_data \n",
    "import clean_data\n",
    "import pandas as pd\n",
    "import seaborn as sns\n",
    "import matplotlib.pyplot as plt\n",
    "import numpy as np\n",
    "from matplotlib.colors import LogNorm\n",
    "from scipy.stats import chi2_contingency\n",
    "from scipy.stats import chi2\n",
    "import scipy.stats as st\n",
    "plt.style.use('seaborn')\n",
    "\n",
    "url_base = \"https://api.fda.gov/drug/event.json?search=receivedate:[20030101+TO+20200528]\""
   ]
  },
  {
   "cell_type": "markdown",
   "metadata": {},
   "source": [
    "## Collecting the pediatric dataset"
   ]
  },
  {
   "cell_type": "markdown",
   "metadata": {},
   "source": [
    "We will first collect the data. We will initially collect only data for 'children' i.e. category 3 as reported in the database. This does not include neonates, infants or adolescents.\n",
    "\n",
    "Given the total number of children in the database (35,000), we will initially restrict our analyses to the first 5000, before later expanding the sample. "
   ]
  },
  {
   "cell_type": "markdown",
   "metadata": {},
   "source": [
    "## Cleaning the data"
   ]
  },
  {
   "cell_type": "code",
   "execution_count": 2,
   "metadata": {},
   "outputs": [
    {
     "data": {
      "application/vnd.jupyter.widget-view+json": {
       "model_id": "21aa98a224264ab8b2a5a7db059f3285",
       "version_major": 2,
       "version_minor": 0
      },
      "text/plain": [
       "HBox(children=(FloatProgress(value=0.0, description='Progress', max=50.0, style=ProgressStyle(description_widt…"
      ]
     },
     "metadata": {},
     "output_type": "display_data"
    },
    {
     "name": "stdout",
     "output_type": "stream",
     "text": [
      "\n"
     ]
    }
   ],
   "source": [
    "n_reports = 5000\n",
    "\n",
    "# collect pediatric data from database and normalise\n",
    "raw_pediatric = collect_data.collect_pediatric_data(n_reports)\n",
    "raw_pediatric.reset_index(drop=True, inplace=True)\n",
    "flat_pediatric = collect_data.flatten_dataframe(raw_pediatric)"
   ]
  },
  {
   "cell_type": "markdown",
   "metadata": {},
   "source": [
    "We clean the data to remove unecessary/undesired columns, impute missing values, remove columns with a high fraction of missing values, format types appropriately, and filter any outliers."
   ]
  },
  {
   "cell_type": "code",
   "execution_count": 3,
   "metadata": {},
   "outputs": [],
   "source": [
    "clean_pediatric = clean_data.drop_unnecessary_columns(flat_pediatric)\n",
    "clean_pediatric = clean_data.fill_seriousness_nan(clean_pediatric)\n",
    "clean_pediatric = clean_data.remove_nan_columns(clean_pediatric, 40)\n",
    "clean_pediatric = clean_data.fix_data_types(clean_pediatric)\n",
    "clean_pediatric = clean_data.reformat_onsetage(clean_pediatric)\n",
    "clean_pediatric = clean_data.remove_outliers(clean_pediatric)\n",
    "clean_pediatric.serious = clean_pediatric.serious.map({2:0, 1:1}) #map_serious_to_boolean\n",
    "pediatric_data = clean_pediatric.reset_index()"
   ]
  },
  {
   "cell_type": "code",
   "execution_count": 4,
   "metadata": {},
   "outputs": [
    {
     "data": {
      "text/html": [
       "<div>\n",
       "<style scoped>\n",
       "    .dataframe tbody tr th:only-of-type {\n",
       "        vertical-align: middle;\n",
       "    }\n",
       "\n",
       "    .dataframe tbody tr th {\n",
       "        vertical-align: top;\n",
       "    }\n",
       "\n",
       "    .dataframe thead th {\n",
       "        text-align: right;\n",
       "    }\n",
       "</style>\n",
       "<table border=\"1\" class=\"dataframe\">\n",
       "  <thead>\n",
       "    <tr style=\"text-align: right;\">\n",
       "      <th></th>\n",
       "      <th>index</th>\n",
       "      <th>reporttype</th>\n",
       "      <th>occurcountry</th>\n",
       "      <th>serious</th>\n",
       "      <th>primarysource.qualification</th>\n",
       "      <th>patient.patientsex</th>\n",
       "      <th>seriousnessother</th>\n",
       "      <th>seriousnesshospitalization</th>\n",
       "      <th>seriousnesslifethreatening</th>\n",
       "      <th>seriousnessdeath</th>\n",
       "      <th>seriousnessdisabling</th>\n",
       "      <th>seriousnesscongenitalanomali</th>\n",
       "      <th>reactionoutcome</th>\n",
       "      <th>reactionmeddrapt</th>\n",
       "      <th>route</th>\n",
       "      <th>patient.patientonsetageyear</th>\n",
       "    </tr>\n",
       "  </thead>\n",
       "  <tbody>\n",
       "    <tr>\n",
       "      <th>0</th>\n",
       "      <td>0</td>\n",
       "      <td>1.0</td>\n",
       "      <td>US</td>\n",
       "      <td>0</td>\n",
       "      <td>5.0</td>\n",
       "      <td>1.0</td>\n",
       "      <td>0.0</td>\n",
       "      <td>0.0</td>\n",
       "      <td>0.0</td>\n",
       "      <td>0.0</td>\n",
       "      <td>0.0</td>\n",
       "      <td>0.0</td>\n",
       "      <td>6.0</td>\n",
       "      <td>Sinusitis</td>\n",
       "      <td>ORAL</td>\n",
       "      <td>10.0</td>\n",
       "    </tr>\n",
       "    <tr>\n",
       "      <th>1</th>\n",
       "      <td>1</td>\n",
       "      <td>1.0</td>\n",
       "      <td>US</td>\n",
       "      <td>0</td>\n",
       "      <td>1.0</td>\n",
       "      <td>1.0</td>\n",
       "      <td>0.0</td>\n",
       "      <td>0.0</td>\n",
       "      <td>0.0</td>\n",
       "      <td>0.0</td>\n",
       "      <td>0.0</td>\n",
       "      <td>0.0</td>\n",
       "      <td>6.0</td>\n",
       "      <td>Hiccups</td>\n",
       "      <td>ORAL</td>\n",
       "      <td>4.0</td>\n",
       "    </tr>\n",
       "    <tr>\n",
       "      <th>2</th>\n",
       "      <td>2</td>\n",
       "      <td>1.0</td>\n",
       "      <td>US</td>\n",
       "      <td>0</td>\n",
       "      <td>1.0</td>\n",
       "      <td>1.0</td>\n",
       "      <td>0.0</td>\n",
       "      <td>0.0</td>\n",
       "      <td>0.0</td>\n",
       "      <td>0.0</td>\n",
       "      <td>0.0</td>\n",
       "      <td>0.0</td>\n",
       "      <td>6.0</td>\n",
       "      <td>Hordeolum</td>\n",
       "      <td>ORAL</td>\n",
       "      <td>4.0</td>\n",
       "    </tr>\n",
       "    <tr>\n",
       "      <th>3</th>\n",
       "      <td>3</td>\n",
       "      <td>1.0</td>\n",
       "      <td>US</td>\n",
       "      <td>0</td>\n",
       "      <td>5.0</td>\n",
       "      <td>2.0</td>\n",
       "      <td>0.0</td>\n",
       "      <td>0.0</td>\n",
       "      <td>0.0</td>\n",
       "      <td>0.0</td>\n",
       "      <td>0.0</td>\n",
       "      <td>0.0</td>\n",
       "      <td>6.0</td>\n",
       "      <td>Oral candidiasis</td>\n",
       "      <td>ORAL</td>\n",
       "      <td>2.0</td>\n",
       "    </tr>\n",
       "    <tr>\n",
       "      <th>4</th>\n",
       "      <td>4</td>\n",
       "      <td>1.0</td>\n",
       "      <td>US</td>\n",
       "      <td>0</td>\n",
       "      <td>5.0</td>\n",
       "      <td>2.0</td>\n",
       "      <td>0.0</td>\n",
       "      <td>0.0</td>\n",
       "      <td>0.0</td>\n",
       "      <td>0.0</td>\n",
       "      <td>0.0</td>\n",
       "      <td>0.0</td>\n",
       "      <td>6.0</td>\n",
       "      <td>Nasopharyngitis</td>\n",
       "      <td>ORAL</td>\n",
       "      <td>5.0</td>\n",
       "    </tr>\n",
       "    <tr>\n",
       "      <th>5</th>\n",
       "      <td>5</td>\n",
       "      <td>1.0</td>\n",
       "      <td>US</td>\n",
       "      <td>1</td>\n",
       "      <td>5.0</td>\n",
       "      <td>2.0</td>\n",
       "      <td>1.0</td>\n",
       "      <td>0.0</td>\n",
       "      <td>0.0</td>\n",
       "      <td>0.0</td>\n",
       "      <td>0.0</td>\n",
       "      <td>0.0</td>\n",
       "      <td>6.0</td>\n",
       "      <td>Coeliac disease</td>\n",
       "      <td>ORAL</td>\n",
       "      <td>13.0</td>\n",
       "    </tr>\n",
       "    <tr>\n",
       "      <th>6</th>\n",
       "      <td>6</td>\n",
       "      <td>1.0</td>\n",
       "      <td>US</td>\n",
       "      <td>0</td>\n",
       "      <td>5.0</td>\n",
       "      <td>1.0</td>\n",
       "      <td>0.0</td>\n",
       "      <td>0.0</td>\n",
       "      <td>0.0</td>\n",
       "      <td>0.0</td>\n",
       "      <td>0.0</td>\n",
       "      <td>0.0</td>\n",
       "      <td>6.0</td>\n",
       "      <td>Heart rate increased</td>\n",
       "      <td>ORAL</td>\n",
       "      <td>7.0</td>\n",
       "    </tr>\n",
       "    <tr>\n",
       "      <th>7</th>\n",
       "      <td>7</td>\n",
       "      <td>1.0</td>\n",
       "      <td>US</td>\n",
       "      <td>0</td>\n",
       "      <td>1.0</td>\n",
       "      <td>2.0</td>\n",
       "      <td>0.0</td>\n",
       "      <td>0.0</td>\n",
       "      <td>0.0</td>\n",
       "      <td>0.0</td>\n",
       "      <td>0.0</td>\n",
       "      <td>0.0</td>\n",
       "      <td>6.0</td>\n",
       "      <td>Dyspnoea</td>\n",
       "      <td>ORAL</td>\n",
       "      <td>6.0</td>\n",
       "    </tr>\n",
       "    <tr>\n",
       "      <th>8</th>\n",
       "      <td>8</td>\n",
       "      <td>1.0</td>\n",
       "      <td>US</td>\n",
       "      <td>0</td>\n",
       "      <td>1.0</td>\n",
       "      <td>1.0</td>\n",
       "      <td>0.0</td>\n",
       "      <td>0.0</td>\n",
       "      <td>0.0</td>\n",
       "      <td>0.0</td>\n",
       "      <td>0.0</td>\n",
       "      <td>0.0</td>\n",
       "      <td>6.0</td>\n",
       "      <td>Sinusitis</td>\n",
       "      <td>ORAL</td>\n",
       "      <td>6.0</td>\n",
       "    </tr>\n",
       "    <tr>\n",
       "      <th>9</th>\n",
       "      <td>9</td>\n",
       "      <td>1.0</td>\n",
       "      <td>US</td>\n",
       "      <td>0</td>\n",
       "      <td>5.0</td>\n",
       "      <td>2.0</td>\n",
       "      <td>0.0</td>\n",
       "      <td>0.0</td>\n",
       "      <td>0.0</td>\n",
       "      <td>0.0</td>\n",
       "      <td>0.0</td>\n",
       "      <td>0.0</td>\n",
       "      <td>6.0</td>\n",
       "      <td>Sinusitis</td>\n",
       "      <td>ORAL</td>\n",
       "      <td>8.0</td>\n",
       "    </tr>\n",
       "  </tbody>\n",
       "</table>\n",
       "</div>"
      ],
      "text/plain": [
       "   index  reporttype occurcountry  serious  primarysource.qualification  \\\n",
       "0      0         1.0           US        0                          5.0   \n",
       "1      1         1.0           US        0                          1.0   \n",
       "2      2         1.0           US        0                          1.0   \n",
       "3      3         1.0           US        0                          5.0   \n",
       "4      4         1.0           US        0                          5.0   \n",
       "5      5         1.0           US        1                          5.0   \n",
       "6      6         1.0           US        0                          5.0   \n",
       "7      7         1.0           US        0                          1.0   \n",
       "8      8         1.0           US        0                          1.0   \n",
       "9      9         1.0           US        0                          5.0   \n",
       "\n",
       "   patient.patientsex  seriousnessother  seriousnesshospitalization  \\\n",
       "0                 1.0               0.0                         0.0   \n",
       "1                 1.0               0.0                         0.0   \n",
       "2                 1.0               0.0                         0.0   \n",
       "3                 2.0               0.0                         0.0   \n",
       "4                 2.0               0.0                         0.0   \n",
       "5                 2.0               1.0                         0.0   \n",
       "6                 1.0               0.0                         0.0   \n",
       "7                 2.0               0.0                         0.0   \n",
       "8                 1.0               0.0                         0.0   \n",
       "9                 2.0               0.0                         0.0   \n",
       "\n",
       "   seriousnesslifethreatening  seriousnessdeath  seriousnessdisabling  \\\n",
       "0                         0.0               0.0                   0.0   \n",
       "1                         0.0               0.0                   0.0   \n",
       "2                         0.0               0.0                   0.0   \n",
       "3                         0.0               0.0                   0.0   \n",
       "4                         0.0               0.0                   0.0   \n",
       "5                         0.0               0.0                   0.0   \n",
       "6                         0.0               0.0                   0.0   \n",
       "7                         0.0               0.0                   0.0   \n",
       "8                         0.0               0.0                   0.0   \n",
       "9                         0.0               0.0                   0.0   \n",
       "\n",
       "   seriousnesscongenitalanomali  reactionoutcome      reactionmeddrapt route  \\\n",
       "0                           0.0              6.0             Sinusitis  ORAL   \n",
       "1                           0.0              6.0               Hiccups  ORAL   \n",
       "2                           0.0              6.0             Hordeolum  ORAL   \n",
       "3                           0.0              6.0      Oral candidiasis  ORAL   \n",
       "4                           0.0              6.0       Nasopharyngitis  ORAL   \n",
       "5                           0.0              6.0       Coeliac disease  ORAL   \n",
       "6                           0.0              6.0  Heart rate increased  ORAL   \n",
       "7                           0.0              6.0              Dyspnoea  ORAL   \n",
       "8                           0.0              6.0             Sinusitis  ORAL   \n",
       "9                           0.0              6.0             Sinusitis  ORAL   \n",
       "\n",
       "   patient.patientonsetageyear  \n",
       "0                         10.0  \n",
       "1                          4.0  \n",
       "2                          4.0  \n",
       "3                          2.0  \n",
       "4                          5.0  \n",
       "5                         13.0  \n",
       "6                          7.0  \n",
       "7                          6.0  \n",
       "8                          6.0  \n",
       "9                          8.0  "
      ]
     },
     "execution_count": 4,
     "metadata": {},
     "output_type": "execute_result"
    }
   ],
   "source": [
    "pediatric_data.head(10)"
   ]
  },
  {
   "cell_type": "markdown",
   "metadata": {},
   "source": [
    "Examine the dataset by eye to look for anomalies and problems."
   ]
  },
  {
   "cell_type": "code",
   "execution_count": 5,
   "metadata": {},
   "outputs": [
    {
     "data": {
      "text/html": [
       "<div>\n",
       "<style scoped>\n",
       "    .dataframe tbody tr th:only-of-type {\n",
       "        vertical-align: middle;\n",
       "    }\n",
       "\n",
       "    .dataframe tbody tr th {\n",
       "        vertical-align: top;\n",
       "    }\n",
       "\n",
       "    .dataframe thead th {\n",
       "        text-align: right;\n",
       "    }\n",
       "</style>\n",
       "<table border=\"1\" class=\"dataframe\">\n",
       "  <thead>\n",
       "    <tr style=\"text-align: right;\">\n",
       "      <th></th>\n",
       "      <th>index</th>\n",
       "      <th>reporttype</th>\n",
       "      <th>serious</th>\n",
       "      <th>primarysource.qualification</th>\n",
       "      <th>patient.patientsex</th>\n",
       "      <th>seriousnessother</th>\n",
       "      <th>seriousnesshospitalization</th>\n",
       "      <th>seriousnesslifethreatening</th>\n",
       "      <th>seriousnessdeath</th>\n",
       "      <th>seriousnessdisabling</th>\n",
       "      <th>seriousnesscongenitalanomali</th>\n",
       "      <th>reactionoutcome</th>\n",
       "      <th>patient.patientonsetageyear</th>\n",
       "    </tr>\n",
       "  </thead>\n",
       "  <tbody>\n",
       "    <tr>\n",
       "      <th>count</th>\n",
       "      <td>4991.000000</td>\n",
       "      <td>4991.000000</td>\n",
       "      <td>4991.000000</td>\n",
       "      <td>4974.000000</td>\n",
       "      <td>4030.000000</td>\n",
       "      <td>4991.000000</td>\n",
       "      <td>4991.000000</td>\n",
       "      <td>4991.000000</td>\n",
       "      <td>4991.000000</td>\n",
       "      <td>4991.000000</td>\n",
       "      <td>4991.000000</td>\n",
       "      <td>4870.000000</td>\n",
       "      <td>2586.000000</td>\n",
       "    </tr>\n",
       "    <tr>\n",
       "      <th>mean</th>\n",
       "      <td>2498.518734</td>\n",
       "      <td>1.257864</td>\n",
       "      <td>0.535965</td>\n",
       "      <td>3.488741</td>\n",
       "      <td>1.331266</td>\n",
       "      <td>0.364857</td>\n",
       "      <td>0.166299</td>\n",
       "      <td>0.017832</td>\n",
       "      <td>0.048487</td>\n",
       "      <td>0.006211</td>\n",
       "      <td>0.003206</td>\n",
       "      <td>4.596099</td>\n",
       "      <td>7.881574</td>\n",
       "    </tr>\n",
       "    <tr>\n",
       "      <th>std</th>\n",
       "      <td>1443.076841</td>\n",
       "      <td>0.450591</td>\n",
       "      <td>0.498755</td>\n",
       "      <td>1.703362</td>\n",
       "      <td>0.470727</td>\n",
       "      <td>0.481438</td>\n",
       "      <td>0.372386</td>\n",
       "      <td>0.132354</td>\n",
       "      <td>0.214815</td>\n",
       "      <td>0.078574</td>\n",
       "      <td>0.056534</td>\n",
       "      <td>2.000540</td>\n",
       "      <td>3.320164</td>\n",
       "    </tr>\n",
       "    <tr>\n",
       "      <th>min</th>\n",
       "      <td>0.000000</td>\n",
       "      <td>1.000000</td>\n",
       "      <td>0.000000</td>\n",
       "      <td>1.000000</td>\n",
       "      <td>1.000000</td>\n",
       "      <td>0.000000</td>\n",
       "      <td>0.000000</td>\n",
       "      <td>0.000000</td>\n",
       "      <td>0.000000</td>\n",
       "      <td>0.000000</td>\n",
       "      <td>0.000000</td>\n",
       "      <td>1.000000</td>\n",
       "      <td>0.666667</td>\n",
       "    </tr>\n",
       "    <tr>\n",
       "      <th>25%</th>\n",
       "      <td>1249.500000</td>\n",
       "      <td>1.000000</td>\n",
       "      <td>0.000000</td>\n",
       "      <td>1.000000</td>\n",
       "      <td>1.000000</td>\n",
       "      <td>0.000000</td>\n",
       "      <td>0.000000</td>\n",
       "      <td>0.000000</td>\n",
       "      <td>0.000000</td>\n",
       "      <td>0.000000</td>\n",
       "      <td>0.000000</td>\n",
       "      <td>3.000000</td>\n",
       "      <td>5.000000</td>\n",
       "    </tr>\n",
       "    <tr>\n",
       "      <th>50%</th>\n",
       "      <td>2497.000000</td>\n",
       "      <td>1.000000</td>\n",
       "      <td>1.000000</td>\n",
       "      <td>5.000000</td>\n",
       "      <td>1.000000</td>\n",
       "      <td>0.000000</td>\n",
       "      <td>0.000000</td>\n",
       "      <td>0.000000</td>\n",
       "      <td>0.000000</td>\n",
       "      <td>0.000000</td>\n",
       "      <td>0.000000</td>\n",
       "      <td>6.000000</td>\n",
       "      <td>8.000000</td>\n",
       "    </tr>\n",
       "    <tr>\n",
       "      <th>75%</th>\n",
       "      <td>3748.500000</td>\n",
       "      <td>2.000000</td>\n",
       "      <td>1.000000</td>\n",
       "      <td>5.000000</td>\n",
       "      <td>2.000000</td>\n",
       "      <td>1.000000</td>\n",
       "      <td>0.000000</td>\n",
       "      <td>0.000000</td>\n",
       "      <td>0.000000</td>\n",
       "      <td>0.000000</td>\n",
       "      <td>0.000000</td>\n",
       "      <td>6.000000</td>\n",
       "      <td>11.000000</td>\n",
       "    </tr>\n",
       "    <tr>\n",
       "      <th>max</th>\n",
       "      <td>4999.000000</td>\n",
       "      <td>4.000000</td>\n",
       "      <td>1.000000</td>\n",
       "      <td>5.000000</td>\n",
       "      <td>2.000000</td>\n",
       "      <td>1.000000</td>\n",
       "      <td>1.000000</td>\n",
       "      <td>1.000000</td>\n",
       "      <td>1.000000</td>\n",
       "      <td>1.000000</td>\n",
       "      <td>1.000000</td>\n",
       "      <td>6.000000</td>\n",
       "      <td>17.000000</td>\n",
       "    </tr>\n",
       "  </tbody>\n",
       "</table>\n",
       "</div>"
      ],
      "text/plain": [
       "             index   reporttype      serious  primarysource.qualification  \\\n",
       "count  4991.000000  4991.000000  4991.000000                  4974.000000   \n",
       "mean   2498.518734     1.257864     0.535965                     3.488741   \n",
       "std    1443.076841     0.450591     0.498755                     1.703362   \n",
       "min       0.000000     1.000000     0.000000                     1.000000   \n",
       "25%    1249.500000     1.000000     0.000000                     1.000000   \n",
       "50%    2497.000000     1.000000     1.000000                     5.000000   \n",
       "75%    3748.500000     2.000000     1.000000                     5.000000   \n",
       "max    4999.000000     4.000000     1.000000                     5.000000   \n",
       "\n",
       "       patient.patientsex  seriousnessother  seriousnesshospitalization  \\\n",
       "count         4030.000000       4991.000000                 4991.000000   \n",
       "mean             1.331266          0.364857                    0.166299   \n",
       "std              0.470727          0.481438                    0.372386   \n",
       "min              1.000000          0.000000                    0.000000   \n",
       "25%              1.000000          0.000000                    0.000000   \n",
       "50%              1.000000          0.000000                    0.000000   \n",
       "75%              2.000000          1.000000                    0.000000   \n",
       "max              2.000000          1.000000                    1.000000   \n",
       "\n",
       "       seriousnesslifethreatening  seriousnessdeath  seriousnessdisabling  \\\n",
       "count                 4991.000000       4991.000000           4991.000000   \n",
       "mean                     0.017832          0.048487              0.006211   \n",
       "std                      0.132354          0.214815              0.078574   \n",
       "min                      0.000000          0.000000              0.000000   \n",
       "25%                      0.000000          0.000000              0.000000   \n",
       "50%                      0.000000          0.000000              0.000000   \n",
       "75%                      0.000000          0.000000              0.000000   \n",
       "max                      1.000000          1.000000              1.000000   \n",
       "\n",
       "       seriousnesscongenitalanomali  reactionoutcome  \\\n",
       "count                   4991.000000      4870.000000   \n",
       "mean                       0.003206         4.596099   \n",
       "std                        0.056534         2.000540   \n",
       "min                        0.000000         1.000000   \n",
       "25%                        0.000000         3.000000   \n",
       "50%                        0.000000         6.000000   \n",
       "75%                        0.000000         6.000000   \n",
       "max                        1.000000         6.000000   \n",
       "\n",
       "       patient.patientonsetageyear  \n",
       "count                  2586.000000  \n",
       "mean                      7.881574  \n",
       "std                       3.320164  \n",
       "min                       0.666667  \n",
       "25%                       5.000000  \n",
       "50%                       8.000000  \n",
       "75%                      11.000000  \n",
       "max                      17.000000  "
      ]
     },
     "execution_count": 5,
     "metadata": {},
     "output_type": "execute_result"
    }
   ],
   "source": [
    "pediatric_data.describe()"
   ]
  },
  {
   "cell_type": "markdown",
   "metadata": {},
   "source": [
    "We will now handle any remaining missing data by imputing a new category 'unknown' for the categorical data, and applying a 'mean' or 'most frequent' strategy to the numerical data.\n"
   ]
  },
  {
   "cell_type": "markdown",
   "metadata": {},
   "source": [
    "## Exploratory Data Analysis - Pediatric Dataset"
   ]
  },
  {
   "cell_type": "markdown",
   "metadata": {},
   "source": [
    "Similar to our analysis for the full database (presented in the [Exploring_OpenFDA_Adverse_Reactions notebook](https://github.com/ambevan/OpenFDA_Case_Study/blob/master/Exploring_OpenFDA_Adverse_Reactions.ipynb)), we can now perform some basic analysis and exploration of the cleaned pediatric dataset before building a more sophisticated model. We are predominantly interested in the severity of the adverse effect and so we start by exploring this feature.\n",
    "\n",
    "We can see that the fraction of reported serious adverse responses is similar to the entire population (54% compared to 59%). Of those where the nature of the serious reponse is reported, the majority (60%) report a response that did not result in death, disability, congenital anomali, a threat to lif or hospitalisation."
   ]
  },
  {
   "cell_type": "code",
   "execution_count": 6,
   "metadata": {},
   "outputs": [
    {
     "data": {
      "image/png": "[encoded data removed]",
      "text/plain": [
       "<Figure size 1296x360 with 2 Axes>"
      ]
     },
     "metadata": {},
     "output_type": "display_data"
    }
   ],
   "source": [
    "fig1, (ax1, ax2) = plt.subplots(nrows=1, ncols=2,figsize=(18,5))\n",
    "pediatric_data.serious.value_counts().plot.pie(labels=['serious','not serious'], ax=ax1, autopct='%1.0f%%');\n",
    "ax1.set_ylabel('severity of adverse response');\n",
    "\n",
    "seriousness_col_names = ['seriousnesslifethreatening',\n",
    "                         'seriousnesscongenitalanomali',\n",
    "                         'seriousnesshospitalization', \n",
    "                         'seriousnessother',\n",
    "                         'seriousnessdeath' ,\n",
    "                         'seriousnessdisabling'\n",
    "                        ]\n",
    "labels = [item.replace('seriousness','') for item in seriousness_col_names]\n",
    "df_serious = pediatric_data[seriousness_col_names]\n",
    "df_serious.sum().plot.pie(ax=ax2, autopct='%1.0f%%', labels=labels, startangle=-20)\n",
    "ax2.set_ylabel('nature of serious response');"
   ]
  },
  {
   "cell_type": "markdown",
   "metadata": {},
   "source": [
    "Two different but comparable metrics exist within the database that give an indication of severity. We can gain some undersading of the accuracy of teh data by comparing these metrics. We know whether the outcome was classified as 'serious' or 'not serious'. We also have the nature of the outcome as falling into one of these categories:\n",
    "\n",
    "* 1 = Recovered/resolved\n",
    "* 2 = Recovering/resolving\n",
    "* 3 = Not recovered/not resolved\n",
    "* 4 = Recovered/resolved with sequelae (consequent health issues)\n",
    "* 5 = Fatal\n",
    "* 6 = Unknown\n",
    "\n",
    "We can examine the relative frequencies of these outcomes in our data (ignoring any blanks or unknowns)."
   ]
  },
  {
   "cell_type": "code",
   "execution_count": 7,
   "metadata": {},
   "outputs": [
    {
     "data": {
      "image/png": "[encoded data removed]",
      "text/plain": [
       "<Figure size 360x360 with 1 Axes>"
      ]
     },
     "metadata": {},
     "output_type": "display_data"
    }
   ],
   "source": [
    "outcome_df = pediatric_data.reactionoutcome.value_counts()\n",
    "outcome_df.sort_index(inplace=True)\n",
    "labels_dict = {1 : 'Recovered/resolved',\n",
    "               2 : 'Recovering/resolving',\n",
    "               3 : 'Not recovered/not resolved',\n",
    "               4 : 'Recovered/resolved with sequelae (consequent health issues)',\n",
    "               5 : 'Fatal',\n",
    "               6 : 'Unknown'\n",
    "              }\n",
    "ax1 = outcome_df[outcome_df.index != 6].plot.pie(autopct='%1.0f%%', labels=labels_dict.values(), figsize=(5,5), startangle=40);                 "
   ]
  },
  {
   "cell_type": "markdown",
   "metadata": {},
   "source": [
    "It is important to note that many reports indicate multiple serious outcomes, for example hospitalization and death are not mutually exclusive. \n",
    "\n",
    "#There is some more data analysis to be done here."
   ]
  },
  {
   "cell_type": "code",
   "execution_count": 8,
   "metadata": {},
   "outputs": [
    {
     "data": {
      "text/plain": [
       "index                              0\n",
       "reporttype                         0\n",
       "occurcountry                      40\n",
       "serious                            0\n",
       "primarysource.qualification       17\n",
       "patient.patientsex               961\n",
       "seriousnessother                   0\n",
       "seriousnesshospitalization         0\n",
       "seriousnesslifethreatening         0\n",
       "seriousnessdeath                   0\n",
       "seriousnessdisabling               0\n",
       "seriousnesscongenitalanomali       0\n",
       "reactionoutcome                  121\n",
       "reactionmeddrapt                   0\n",
       "route                           1038\n",
       "patient.patientonsetageyear     2405\n",
       "dtype: int64"
      ]
     },
     "execution_count": 8,
     "metadata": {},
     "output_type": "execute_result"
    }
   ],
   "source": [
    "pediatric_data.isna().sum()"
   ]
  },
  {
   "cell_type": "markdown",
   "metadata": {},
   "source": [
    "## Analysis of factors influencing severity of adverse response in children"
   ]
  },
  {
   "cell_type": "markdown",
   "metadata": {},
   "source": [
    "Initally, we will build a logistic regression model to predict whether or not an adverse response is serious given some of the other variables. We will initially consider a model with only a few features: patient age and patient gender."
   ]
  },
  {
   "cell_type": "code",
   "execution_count": 9,
   "metadata": {},
   "outputs": [
    {
     "data": {
      "image/png": "[encoded data removed]",
      "text/plain": [
       "<Figure size 576x396 with 1 Axes>"
      ]
     },
     "metadata": {},
     "output_type": "display_data"
    }
   ],
   "source": [
    "sns.countplot(x='serious',data=pediatric_data);"
   ]
  },
  {
   "cell_type": "code",
   "execution_count": 10,
   "metadata": {},
   "outputs": [
    {
     "data": {
      "text/html": [
       "<div>\n",
       "<style scoped>\n",
       "    .dataframe tbody tr th:only-of-type {\n",
       "        vertical-align: middle;\n",
       "    }\n",
       "\n",
       "    .dataframe tbody tr th {\n",
       "        vertical-align: top;\n",
       "    }\n",
       "\n",
       "    .dataframe thead th {\n",
       "        text-align: right;\n",
       "    }\n",
       "</style>\n",
       "<table border=\"1\" class=\"dataframe\">\n",
       "  <thead>\n",
       "    <tr style=\"text-align: right;\">\n",
       "      <th></th>\n",
       "      <th>index</th>\n",
       "      <th>reporttype</th>\n",
       "      <th>primarysource.qualification</th>\n",
       "      <th>patient.patientsex</th>\n",
       "      <th>seriousnessother</th>\n",
       "      <th>seriousnesshospitalization</th>\n",
       "      <th>seriousnesslifethreatening</th>\n",
       "      <th>seriousnessdeath</th>\n",
       "      <th>seriousnessdisabling</th>\n",
       "      <th>seriousnesscongenitalanomali</th>\n",
       "      <th>reactionoutcome</th>\n",
       "      <th>patient.patientonsetageyear</th>\n",
       "    </tr>\n",
       "    <tr>\n",
       "      <th>serious</th>\n",
       "      <th></th>\n",
       "      <th></th>\n",
       "      <th></th>\n",
       "      <th></th>\n",
       "      <th></th>\n",
       "      <th></th>\n",
       "      <th></th>\n",
       "      <th></th>\n",
       "      <th></th>\n",
       "      <th></th>\n",
       "      <th></th>\n",
       "      <th></th>\n",
       "    </tr>\n",
       "  </thead>\n",
       "  <tbody>\n",
       "    <tr>\n",
       "      <th>0</th>\n",
       "      <td>2894.278929</td>\n",
       "      <td>1.145509</td>\n",
       "      <td>4.163424</td>\n",
       "      <td>1.310559</td>\n",
       "      <td>0.000000</td>\n",
       "      <td>0.00000</td>\n",
       "      <td>0.000000</td>\n",
       "      <td>0.000000</td>\n",
       "      <td>0.000000</td>\n",
       "      <td>0.000000</td>\n",
       "      <td>4.856007</td>\n",
       "      <td>8.076423</td>\n",
       "    </tr>\n",
       "    <tr>\n",
       "      <th>1</th>\n",
       "      <td>2155.871776</td>\n",
       "      <td>1.355140</td>\n",
       "      <td>2.902292</td>\n",
       "      <td>1.350334</td>\n",
       "      <td>0.680748</td>\n",
       "      <td>0.31028</td>\n",
       "      <td>0.033271</td>\n",
       "      <td>0.090467</td>\n",
       "      <td>0.011589</td>\n",
       "      <td>0.005981</td>\n",
       "      <td>4.370299</td>\n",
       "      <td>7.711292</td>\n",
       "    </tr>\n",
       "  </tbody>\n",
       "</table>\n",
       "</div>"
      ],
      "text/plain": [
       "               index  reporttype  primarysource.qualification  \\\n",
       "serious                                                         \n",
       "0        2894.278929    1.145509                     4.163424   \n",
       "1        2155.871776    1.355140                     2.902292   \n",
       "\n",
       "         patient.patientsex  seriousnessother  seriousnesshospitalization  \\\n",
       "serious                                                                     \n",
       "0                  1.310559          0.000000                     0.00000   \n",
       "1                  1.350334          0.680748                     0.31028   \n",
       "\n",
       "         seriousnesslifethreatening  seriousnessdeath  seriousnessdisabling  \\\n",
       "serious                                                                       \n",
       "0                          0.000000          0.000000              0.000000   \n",
       "1                          0.033271          0.090467              0.011589   \n",
       "\n",
       "         seriousnesscongenitalanomali  reactionoutcome  \\\n",
       "serious                                                  \n",
       "0                            0.000000         4.856007   \n",
       "1                            0.005981         4.370299   \n",
       "\n",
       "         patient.patientonsetageyear  \n",
       "serious                               \n",
       "0                           8.076423  \n",
       "1                           7.711292  "
      ]
     },
     "execution_count": 10,
     "metadata": {},
     "output_type": "execute_result"
    }
   ],
   "source": [
    "pediatric_data.groupby('serious').mean()"
   ]
  },
  {
   "cell_type": "markdown",
   "metadata": {},
   "source": [
    "It seems that patients serious responses are more likely to be observed in slightly younger patients. By considering the distribution of ages for serious and not serious responses, we can see that the less serious responses are more skewed to older children."
   ]
  },
  {
   "cell_type": "code",
   "execution_count": 11,
   "metadata": {},
   "outputs": [
    {
     "name": "stdout",
     "output_type": "stream",
     "text": [
      "z = 0.0781  critical value = 1.64\n",
      "Insufficient evidence to reject null hypothesis.\n"
     ]
    },
    {
     "data": {
      "image/png": "[encoded data removed]",
      "text/plain": [
       "<Figure size 576x360 with 1 Axes>"
      ]
     },
     "metadata": {},
     "output_type": "display_data"
    }
   ],
   "source": [
    "fig = plt.figure(figsize=(8,5))\n",
    "serious_1 = pediatric_data.loc[pediatric_data.serious==1,'patient.patientonsetageyear']\n",
    "serious_0 = pediatric_data.loc[pediatric_data.serious==0,'patient.patientonsetageyear']\n",
    "sns.kdeplot(serious_1, label='serious');\n",
    "sns.kdeplot(serious_0, label='less serious');\n",
    "plt.xlabel('age (years)');\n",
    "\n",
    "def z_test(series1, series2, prob):\n",
    "    sd1 = series1.std()\n",
    "    sd2 = series2.std()\n",
    "    mu1 = series1.mean()\n",
    "    mu2 = series2.mean()\n",
    "    z = (mu1-mu2)/(sd1**2 + sd2**2)**0.5\n",
    "    crit = st.norm.ppf(prob)\n",
    "    print(f'z = {z:.3}  critical value = {crit:.3}')\n",
    "    if z < crit:\n",
    "        print('Insufficient evidence to reject null hypothesis.')\n",
    "    return z\n",
    "\n",
    "#perform z test to compare means of distributions\n",
    "z = z_test(serious_0,serious_1, 0.95)\n",
    "\n"
   ]
  },
  {
   "cell_type": "markdown",
   "metadata": {},
   "source": [
    "We can also consider the correlation with gender using a contingency table. We can see from the table (which is not noramlised and represens abolute frequencies in the data), that there are significantly more reports of adverse reponses in male patients in the database. This might suggest that male patients are more likely to suffer adverse respones or that they are more likely to report adverse responses than female patients (or both). \n",
    "\n",
    "One indication that suggests male patients might simply be more likely to report adverse effects (either directly or through a clinician) is that, of female reports, 55% of reports were for serious adverse effects compared to 45% for not serious. The number of serious and non-serious adverse reports for male patients in the data is 50:50."
   ]
  },
  {
   "cell_type": "code",
   "execution_count": 12,
   "metadata": {},
   "outputs": [],
   "source": [
    "def add_labels(ax, pivot):\n",
    "    p_all = ax.patches\n",
    "    for i, p in enumerate(ax.patches):\n",
    "        if (i % 2):\n",
    "            j=int((i)/2)\n",
    "            ax.annotate(f'n = {pivot.total[j]:.0f}', \n",
    "                        (p_all[j].get_x(), \n",
    "                         max(p_all[j+len(pivot)].get_height(),p_all[j].get_height()) * 1.01))\n",
    "\n",
    "def calculate_serious_pivot(data, index):\n",
    "    sub_data = pd.pivot_table(data, values=['index'],  index=index, columns=['serious'], aggfunc='count')\n",
    "    sub_data = sub_data[sub_data.notna().all(axis=1)]\n",
    "    sub_data['total'] = sub_data.sum(axis=1)\n",
    "    sub_data.columns = ['not serious','serious','total']\n",
    "    sub_data[['not serious %','serious %']] = sub_data[['not serious', 'serious']].div(sub_data.total, axis=0).multiply(100)\n",
    "    return sub_data\n",
    "    \n",
    "def plot_serious_pivot(pivot, index, ax=None, annotate=False):\n",
    "    ax = ax or plt.gca()\n",
    "    ax = pivot[['not serious %','serious %']].plot.bar(figsize=(15,8), ax=ax);\n",
    "    ax.set_ylabel('%');\n",
    "    ax.legend(labels=['not serious', 'serious'])\n",
    "    if annotate:\n",
    "        add_labels(ax, pivot)\n",
    "    return ax"
   ]
  },
  {
   "cell_type": "code",
   "execution_count": 13,
   "metadata": {},
   "outputs": [
    {
     "data": {
      "image/png": "[encoded data removed]",
      "text/plain": [
       "<Figure size 1080x576 with 3 Axes>"
      ]
     },
     "metadata": {},
     "output_type": "display_data"
    }
   ],
   "source": [
    "fig, (ax1, ax2) = plt.subplots(nrows=1, ncols=2,figsize=(18,5))\n",
    "df = pediatric_data\n",
    "sub_data = pd.pivot_table(df, values=['index'],  index=['serious'], columns=['patient.patientsex'], aggfunc='count')\n",
    "total_count = (sub_data.sum().sum())\n",
    "sub_data = sub_data.divide(total_count)\n",
    "sex_columns = {1 : 'male', 2 : 'female','index':'gender'}\n",
    "sub_data = sub_data.rename(columns=sex_columns)\n",
    "\n",
    "pivot_tb = calculate_serious_pivot(pediatric_data, 'patient.patientsex')\n",
    "tb = pivot_tb.drop(columns=['total','not serious %','serious %'])\n",
    "tb = tb.divide(tb.sum().sum())\n",
    "ax1 = sns.heatmap(tb,vmin=0.10,vmax=0.35,\n",
    "                 #norm=LogNorm(vmin=sub_data.min().min(), vmax=sub_data.max().max()),\n",
    "                 annot=True,\n",
    "                fmt='.1%', ax=ax1);\n",
    "ax1.set_xlabel('');\n",
    "ax1.set_ylabel('');\n",
    "ax1.set_yticklabels(['male','female']);\n",
    "\n",
    "plot_serious_pivot(pivot_tb, 'route', ax2)\n",
    "ax2.set_title('percentage serious vs not serious reports by sex');\n",
    "ax2.set_xticklabels(['male','female']);\n",
    "ax2.set_xlabel('');\n",
    "ax2.set_ylabel('%');"
   ]
  },
  {
   "cell_type": "markdown",
   "metadata": {},
   "source": [
    "We can calculate pearson's $\\chi^2$ correlation coefficient to understand whether these results are significant. We will choose a 95\\% confidence interval. "
   ]
  },
  {
   "cell_type": "code",
   "execution_count": 14,
   "metadata": {},
   "outputs": [
    {
     "name": "stdout",
     "output_type": "stream",
     "text": [
      "dof = 1  probability = 0.990 | critical = 6.635   chi2 = 7.004\n",
      "\n",
      "Reject null hypothesis. Variables dependent at the 99% confidence level.\n"
     ]
    }
   ],
   "source": [
    "def significance_test(table, prob):\n",
    "\n",
    "    chi2_stat, p, dof, expected = chi2_contingency(table)\n",
    "\n",
    "    # interpret test-statistic\n",
    "    prob = 0.99\n",
    "    critical = chi2.ppf(prob, dof)\n",
    "\n",
    "    print(f\"dof = {dof}  \"\n",
    "          f\"probability = {prob:.3f} | \"\n",
    "          f\"critical = {critical:.3f}   \"\n",
    "          f\"chi2 = {chi2_stat:.3f}\")\n",
    "    print()\n",
    "\n",
    "    if abs(chi2_stat) >= critical:\n",
    "        print(f'Reject null hypothesis. Variables dependent at the {prob:.0%} confidence level.')\n",
    "    else:\n",
    "        print('Do not reject null hypothesis. Insufficiest evidence for dependence.')\n",
    "\n",
    "significance_test(pivot_tb[['not serious','serious']], 0.99)"
   ]
  },
  {
   "cell_type": "code",
   "execution_count": 15,
   "metadata": {},
   "outputs": [
    {
     "data": {
      "image/png": "[encoded data removed]",
      "text/plain": [
       "<Figure size 1080x576 with 1 Axes>"
      ]
     },
     "metadata": {},
     "output_type": "display_data"
    },
    {
     "name": "stdout",
     "output_type": "stream",
     "text": [
      "dof = 10  probability = 0.990 | critical = 23.209   chi2 = 1038.201\n",
      "\n",
      "Reject null hypothesis. Variables dependent at the 99% confidence level.\n"
     ]
    }
   ],
   "source": [
    "pivot_tb = calculate_serious_pivot(pediatric_data, 'occurcountry')\n",
    "ax = plot_serious_pivot(pivot_tb, 'occurcountry', annotate=True)\n",
    "ax.set_title('percentage serious vs not serious reports by country');\n",
    "plt.show()\n",
    "\n",
    "# calculate significance\n",
    "significance_test(pivot_tb[['not serious','serious']], 0.99) #consider appropriateness of pearson's chi2 here (US dominates)"
   ]
  },
  {
   "cell_type": "code",
   "execution_count": 16,
   "metadata": {},
   "outputs": [
    {
     "data": {
      "image/png": "[encoded data removed]",
      "text/plain": [
       "<Figure size 1080x576 with 1 Axes>"
      ]
     },
     "metadata": {},
     "output_type": "display_data"
    },
    {
     "name": "stdout",
     "output_type": "stream",
     "text": [
      "dof = 12  probability = 0.990 | critical = 26.217   chi2 = 231.544\n",
      "\n",
      "Reject null hypothesis. Variables dependent at the 99% confidence level.\n"
     ]
    }
   ],
   "source": [
    "# calculate pivot table for severity against drug administration route\n",
    "pivot_tb = calculate_serious_pivot(pediatric_data, 'route')\n",
    "ax = plot_serious_pivot(pivot_tb, 'route', annotate=True)\n",
    "ax.set_title('percentage serious vs not serious reports by route');\n",
    "plt.show()\n",
    "\n",
    "# calculate significance\n",
    "significance_test(pivot_tb[['not serious','serious']], 0.99)"
   ]
  },
  {
   "cell_type": "markdown",
   "metadata": {},
   "source": [
    "## Logistic Regression model"
   ]
  },
  {
   "cell_type": "markdown",
   "metadata": {},
   "source": [
    "I am interested to construct a mode to predict the severity of adverse respones given given certain information about a patient and the drug(s) that they are taking. The model would require significant fine tuning taking longer than the time available to complete this task. However, I include a representative approach using logistic regression to classify severity. This simple model performs poorly but a variety of approaches might improve the accuracy of the model. I discuss these below."
   ]
  },
  {
   "cell_type": "code",
   "execution_count": 17,
   "metadata": {},
   "outputs": [],
   "source": [
    "from sklearn.impute import SimpleImputer\n",
    "from sklearn.linear_model import LogisticRegression\n",
    "from sklearn import metrics\n",
    "from sklearn.model_selection import train_test_split\n",
    "from sklearn.preprocessing import LabelEncoder\n",
    "import process_data as process"
   ]
  },
  {
   "cell_type": "markdown",
   "metadata": {},
   "source": [
    "I will establish a simple model based only on gender, age of patient and drug administration route. Initially the data needs further cleaning and preprocesing. "
   ]
  },
  {
   "cell_type": "markdown",
   "metadata": {},
   "source": [
    "#### Further cleaning of the data"
   ]
  },
  {
   "cell_type": "code",
   "execution_count": 18,
   "metadata": {},
   "outputs": [
    {
     "name": "stdout",
     "output_type": "stream",
     "text": [
      "961 of 4991 rows with missing sex removed (19.25%)\n"
     ]
    }
   ],
   "source": [
    "# Shuffle the data in case it is sorted\n",
    "data = pediatric_data.sample(frac=1).reset_index(drop=True)\n",
    "\n",
    "# Remove all rows with no gender specified \n",
    "# (could have alternatively mapped to additional category)\n",
    "print(f\"{data['patient.patientsex'].isna().sum()} of {data['index'].count()} \" \n",
    "      f\"rows with missing sex removed \"\n",
    "     f\"({data['patient.patientsex'].isna().sum()/data['index'].count():.2%})\")\n",
    "data = data[data['patient.patientsex'].notna()]\n",
    "\n",
    "# Due to small numbers, group least prevalent routes into 'other'\n",
    "# Kepp only most prevalent routes (>10% of data)\n",
    "data = process.map_routes(data, 0.1)\n",
    "\n",
    "# Map routes with missing values to new category 'unknown'\n",
    "data.route_summary = data.route_summary.fillna('UNKNOWN')"
   ]
  },
  {
   "cell_type": "markdown",
   "metadata": {},
   "source": [
    "#### Impute missing values and construct logistic regressor"
   ]
  },
  {
   "cell_type": "code",
   "execution_count": 21,
   "metadata": {},
   "outputs": [],
   "source": [
    "# Select features to model\n",
    "X = data[['patient.patientsex', 'patient.patientonsetageyear', 'route_summary']]\n",
    "y = data['serious']\n",
    "\n",
    "# Split into training data and validation data (consider cross-validation later)\n",
    "X_train, X_valid, y_train, y_valid = train_test_split(X, y, test_size=0.3, random_state=0)\n",
    "\n",
    "# Imputation: list categorical and numerical columns\n",
    "cols_cat = ['route_summary']\n",
    "patient_age = 'patient.patientonsetageyear'\n",
    "imputed_X_train = X_train.copy()\n",
    "imputed_X_valid = X_valid.copy()\n",
    "\n",
    "# Apply label encoder to each column with categorical data\n",
    "label_encoder = LabelEncoder()\n",
    "for col in cols_cat:\n",
    "    imputed_X_train[col] = label_encoder.fit_transform(X_train[col].astype(str))\n",
    "    imputed_X_valid[col] = label_encoder.transform(X_valid[col].astype(str))\n",
    "\n",
    "# Imputation: replace missing numerical data with mean value\n",
    "process.impute_on_mean(imputed_X_train, 'patient.patientonsetageyear')\n",
    "process.impute_on_mean(imputed_X_valid, 'patient.patientonsetageyear')\n",
    "\n",
    "# Imputation removed column names; put them back\n",
    "imputed_X_train.columns = X_train.columns\n",
    "imputed_X_valid.columns = X_valid.columns\n",
    "\n",
    "# define logistic regression model\n",
    "log_reg = LogisticRegression();\n",
    "log_reg.fit(imputed_X_train, y_train);"
   ]
  },
  {
   "cell_type": "markdown",
   "metadata": {},
   "source": [
    "#### Determine accuracy of model"
   ]
  },
  {
   "cell_type": "code",
   "execution_count": 22,
   "metadata": {},
   "outputs": [
    {
     "name": "stdout",
     "output_type": "stream",
     "text": [
      "Accuracy of logistic regression classifier on validation set: 0.54\n"
     ]
    },
    {
     "data": {
      "image/png": "[encoded data removed]",
      "text/plain": [
       "<Figure size 1080x360 with 3 Axes>"
      ]
     },
     "metadata": {},
     "output_type": "display_data"
    },
    {
     "name": "stdout",
     "output_type": "stream",
     "text": [
      "              precision    recall  f1-score   support\n",
      "\n",
      "           0       0.52      0.48      0.50       582\n",
      "           1       0.55      0.59      0.57       627\n",
      "\n",
      "    accuracy                           0.54      1209\n",
      "   macro avg       0.53      0.53      0.53      1209\n",
      "weighted avg       0.53      0.54      0.53      1209\n",
      "\n"
     ]
    }
   ],
   "source": [
    "# predict \n",
    "y_pred = log_reg.predict(imputed_X_valid)\n",
    "print('Accuracy of logistic regression classifier on validation set: {:.2f}'.format(log_reg.score(imputed_X_valid, y_valid)))\n",
    "confusion_matrix = metrics.confusion_matrix(y_valid, y_pred)\n",
    "fig, (ax1, ax2) = plt.subplots(nrows=1,ncols=2,figsize=(15,5))\n",
    "sns.heatmap(confusion_matrix/np.sum(confusion_matrix),annot=True,fmt='.1%',ax=ax1);\n",
    "ax1.set_xlabel('predicted');\n",
    "ax1.set_ylabel('true');\n",
    "ax1.xaxis.tick_top()\n",
    "ax1.xaxis.set_label_position('top');\n",
    "\n",
    "#plot ROC curve\n",
    "fpr, tpr, _ = metrics.roc_curve(y_valid, y_pred)\n",
    "ax2.plot(fpr, tpr);\n",
    "ax2.set_xlabel('false positive rate')\n",
    "ax2.set_ylabel('true positive rate')\n",
    "ax2.set_title('ROC curve')\n",
    "plt.show()\n",
    "\n",
    "print(metrics.classification_report(y_valid, y_pred))"
   ]
  },
  {
   "cell_type": "markdown",
   "metadata": {},
   "source": [
    "#### Analysis and improvements"
   ]
  },
  {
   "cell_type": "markdown",
   "metadata": {},
   "source": [
    "[explain the above and what it means]"
   ]
  },
  {
   "cell_type": "markdown",
   "metadata": {},
   "source": [
    "#### Next steps to improve the model"
   ]
  },
  {
   "cell_type": "markdown",
   "metadata": {},
   "source": [
    "* Increase the volume of data\n",
    "* Increase the number of features (e.g. country, drug type, pediatric indication)\n",
    "* Balance the dataset\n",
    "* Adjust recategorisation of routes\n",
    "* Cross-validation\n",
    "\n",
    "Additionally, I would build the code into a pipeline rather than having each step as laid out above."
   ]
  }
 ],
 "metadata": {
  "kernelspec": {
   "display_name": "Python 3",
   "language": "python",
   "name": "python3"
  },
  "language_info": {
   "codemirror_mode": {
    "name": "ipython",
    "version": 3
   },
   "file_extension": ".py",
   "mimetype": "text/x-python",
   "name": "python",
   "nbconvert_exporter": "python",
   "pygments_lexer": "ipython3",
   "version": "3.8.1"
  }
 },
 "nbformat": 4,
 "nbformat_minor": 4
}
